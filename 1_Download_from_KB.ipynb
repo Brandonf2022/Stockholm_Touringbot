{
 "cells": [
  {
   "cell_type": "code",
   "execution_count": 8,
   "metadata": {},
   "outputs": [
    {
     "name": "stdout",
     "output_type": "stream",
     "text": [
      "Configuration Settings:\n",
      "venue_list: Datasets/Venues_plus_Konsert.xlsx\n",
      "start_year: 1908\n",
      "years_to_crawl: 1\n",
      "newspaper: Dagligt Allehanda\n",
      "prompt_filepath: llm_prompt_for_deployment.txt\n",
      "db_path: Datasets/26.07_Deployment_Version_1.0.db\n",
      "llm_model: gpt-4o-mini\n",
      "max_tokens: 1000\n",
      "Stockholm_Concert_Database_Path: Datasets/All_Concerts_1908_filtered.xlsx\n",
      "columns_to_compare: ['normalized_date', 'name', 'venue']\n",
      "column_mapping: {'konsert_datum': 'date', 'konsert_namn': 'name', 'lokal_namn': 'venue', 'arrangör': 'organiser'}\n",
      "Collection ID: https://libris.kb.se/9tmqzv3m32xfzcz#it\n"
     ]
    }
   ],
   "source": [
    "import re\n",
    "import requests\n",
    "import pandas as pd\n",
    "import json\n",
    "from bs4 import BeautifulSoup as bs\n",
    "import time\n",
    "import sqlite3\n",
    "from urllib.parse import quote_plus\n",
    "import yaml\n",
    "from datetime import datetime\n",
    "import os\n",
    "from KBDownloader import search_swedish_newspapers, fetch_newspaper_data, save_checkpoint, load_checkpoint\n",
    "\n",
    "# Get today's date\n",
    "today_date = datetime.today().strftime('%Y-%m-%d')\n",
    "\n",
    "# Load the YAML configuration file\n",
    "with open('config.yaml', 'r') as file:\n",
    "    config = yaml.safe_load(file)\n",
    "\n",
    "# Assign variables from the YAML configuration\n",
    "venue_list = config['venue_list']\n",
    "start_year = config['start_year']\n",
    "years_to_crawl = config['years_to_crawl']\n",
    "newspaper = config['newspaper']\n",
    "db_path = config['db_path']\n",
    "\n",
    "# Define the newspaper collection IDs\n",
    "NEWSPAPER_COLLECTION_IDS = {\n",
    "    'Dagens nyheter': 'https://libris.kb.se/m5z2w4lz3m2zxpk#it',\n",
    "    'Svenska Dagbladet': 'https://libris.kb.se/2ldhmx8d4mcrlq9#it',\n",
    "    'Aftonbladet': 'https://libris.kb.se/dwpgqn5q03ft91j#it',\n",
    "    'Dagligt Allehanda': 'https://libris.kb.se/9tmqzv3m32xfzcz#it'\n",
    "}\n",
    "\n",
    "# Get the correct collection ID for the specified newspaper\n",
    "collection_id = NEWSPAPER_COLLECTION_IDS.get(newspaper)\n",
    "if not collection_id:\n",
    "    raise ValueError(f\"Invalid newspaper name: {newspaper}\")\n",
    "\n",
    "# Ensure the database file exists\n",
    "if not os.path.exists(db_path):\n",
    "    conn = sqlite3.connect(db_path)\n",
    "    conn.close()\n",
    "\n",
    "# Load checkpoint if it exists\n",
    "checkpoint = load_checkpoint()\n",
    "start_year = checkpoint['year'] if checkpoint else start_year\n",
    "start_half = checkpoint['half'] if checkpoint else 0\n",
    "start_index = checkpoint['index'] if checkpoint else 0\n",
    "\n",
    "# Print out all the settings from the YAML configuration file\n",
    "print(\"Configuration Settings:\")\n",
    "for key, value in config.items():\n",
    "    print(f\"{key}: {value}\")\n",
    "print(f\"Collection ID: {collection_id}\")\n",
    "\n",
    "# Load the venue list\n",
    "df = pd.read_excel(venue_list)"
   ]
  },
  {
   "cell_type": "code",
   "execution_count": 9,
   "metadata": {},
   "outputs": [
    {
     "name": "stderr",
     "output_type": "stream",
     "text": [
      "2024-07-25 14:21:06,346 - INFO - Starting fetch_newspaper_data for query: Konsert, dates: 1908-01-01 to 1908-06-30\n",
      "2024-07-25 14:21:06,475 - INFO - Search results received. Hits: 0\n",
      "2024-07-25 14:21:06,475 - INFO - Extracted 0 URLs from search results\n",
      "2024-07-25 14:21:06,476 - INFO - Table 'newspaper_data' created or already exists\n",
      "2024-07-25 14:21:06,477 - INFO - Data processing completed. Total rows saved: 0\n",
      "2024-07-25 14:21:06,478 - INFO - Starting fetch_newspaper_data for query: La Croix salong, dates: 1908-01-01 to 1908-06-30\n"
     ]
    },
    {
     "name": "stdout",
     "output_type": "stream",
     "text": [
      "Processing data from 1908-01-01 00:00:00 to 1908-06-30 00:00:00\n",
      "Processed query 'Konsert' successfully.\n",
      "Checkpoint saved: Year 1908, Half 0, Index 1\n"
     ]
    },
    {
     "name": "stderr",
     "output_type": "stream",
     "text": [
      "2024-07-25 14:21:06,624 - INFO - Search results received. Hits: 0\n",
      "2024-07-25 14:21:06,624 - INFO - Extracted 0 URLs from search results\n",
      "2024-07-25 14:21:06,625 - INFO - Table 'newspaper_data' created or already exists\n",
      "2024-07-25 14:21:06,625 - INFO - Data processing completed. Total rows saved: 0\n",
      "2024-07-25 14:21:06,626 - INFO - Starting fetch_newspaper_data for query: Norra paviljongen i Trädgårdsföreningens lokal, dates: 1908-01-01 to 1908-06-30\n"
     ]
    },
    {
     "name": "stdout",
     "output_type": "stream",
     "text": [
      "Processed query 'La Croix salong' successfully.\n",
      "Checkpoint saved: Year 1908, Half 0, Index 2\n"
     ]
    },
    {
     "name": "stderr",
     "output_type": "stream",
     "text": [
      "2024-07-25 14:21:06,832 - INFO - Search results received. Hits: 0\n",
      "2024-07-25 14:21:06,832 - INFO - Extracted 0 URLs from search results\n",
      "2024-07-25 14:21:06,834 - INFO - Table 'newspaper_data' created or already exists\n",
      "2024-07-25 14:21:06,834 - INFO - Data processing completed. Total rows saved: 0\n",
      "2024-07-25 14:21:06,836 - INFO - Starting fetch_newspaper_data for query: Wallmans lokal (Mäster Samuels gränd 11), dates: 1908-01-01 to 1908-06-30\n"
     ]
    },
    {
     "name": "stdout",
     "output_type": "stream",
     "text": [
      "Processed query 'Norra paviljongen i Trädgårdsföreningens lokal' successfully.\n",
      "Checkpoint saved: Year 1908, Half 0, Index 3\n"
     ]
    },
    {
     "name": "stderr",
     "output_type": "stream",
     "text": [
      "2024-07-25 14:21:07,112 - INFO - Search results received. Hits: 0\n",
      "2024-07-25 14:21:07,112 - INFO - Extracted 0 URLs from search results\n",
      "2024-07-25 14:21:07,113 - INFO - Table 'newspaper_data' created or already exists\n",
      "2024-07-25 14:21:07,114 - INFO - Data processing completed. Total rows saved: 0\n",
      "2024-07-25 14:21:07,115 - INFO - Starting fetch_newspaper_data for query: Kungliga opera, dates: 1908-01-01 to 1908-06-30\n",
      "2024-07-25 14:21:07,259 - INFO - Search results received. Hits: 0\n",
      "2024-07-25 14:21:07,259 - INFO - Extracted 0 URLs from search results\n",
      "2024-07-25 14:21:07,260 - INFO - Table 'newspaper_data' created or already exists\n",
      "2024-07-25 14:21:07,260 - INFO - Data processing completed. Total rows saved: 0\n",
      "2024-07-25 14:21:07,261 - INFO - Starting fetch_newspaper_data for query: Kungliga teater, dates: 1908-01-01 to 1908-06-30\n"
     ]
    },
    {
     "name": "stdout",
     "output_type": "stream",
     "text": [
      "Processed query 'Wallmans lokal (Mäster Samuels gränd 11)' successfully.\n",
      "Checkpoint saved: Year 1908, Half 0, Index 4\n",
      "Processed query 'Kungliga opera' successfully.\n",
      "Checkpoint saved: Year 1908, Half 0, Index 5\n"
     ]
    },
    {
     "name": "stderr",
     "output_type": "stream",
     "text": [
      "2024-07-25 14:21:07,350 - INFO - Search results received. Hits: 0\n",
      "2024-07-25 14:21:07,350 - INFO - Extracted 0 URLs from search results\n",
      "2024-07-25 14:21:07,351 - INFO - Table 'newspaper_data' created or already exists\n",
      "2024-07-25 14:21:07,352 - INFO - Data processing completed. Total rows saved: 0\n",
      "2024-07-25 14:21:07,353 - INFO - Starting fetch_newspaper_data for query: F.d. Kirsteinska huset (vid Clara), dates: 1908-01-01 to 1908-06-30\n"
     ]
    },
    {
     "name": "stdout",
     "output_type": "stream",
     "text": [
      "Processed query 'Kungliga teater' successfully.\n",
      "Checkpoint saved: Year 1908, Half 0, Index 6\n"
     ]
    },
    {
     "name": "stderr",
     "output_type": "stream",
     "text": [
      "2024-07-25 14:21:07,576 - INFO - Search results received. Hits: 0\n",
      "2024-07-25 14:21:07,576 - INFO - Extracted 0 URLs from search results\n",
      "2024-07-25 14:21:07,577 - INFO - Table 'newspaper_data' created or already exists\n",
      "2024-07-25 14:21:07,578 - INFO - Data processing completed. Total rows saved: 0\n",
      "2024-07-25 14:21:07,579 - INFO - Starting fetch_newspaper_data for query: Hotel W6 resp. Hotel Continental, dates: 1908-01-01 to 1908-06-30\n",
      "2024-07-25 14:21:07,708 - INFO - Search results received. Hits: 0\n",
      "2024-07-25 14:21:07,709 - INFO - Extracted 0 URLs from search results\n",
      "2024-07-25 14:21:07,710 - INFO - Table 'newspaper_data' created or already exists\n",
      "2024-07-25 14:21:07,710 - INFO - Data processing completed. Total rows saved: 0\n",
      "2024-07-25 14:21:07,711 - INFO - Starting fetch_newspaper_data for query: La Croix mindre salong, dates: 1908-01-01 to 1908-06-30\n"
     ]
    },
    {
     "name": "stdout",
     "output_type": "stream",
     "text": [
      "Processed query 'F.d. Kirsteinska huset (vid Clara)' successfully.\n",
      "Checkpoint saved: Year 1908, Half 0, Index 7\n",
      "Processed query 'Hotel W6 resp. Hotel Continental' successfully.\n",
      "Checkpoint saved: Year 1908, Half 0, Index 8\n"
     ]
    },
    {
     "name": "stderr",
     "output_type": "stream",
     "text": [
      "2024-07-25 14:21:07,843 - INFO - Search results received. Hits: 0\n",
      "2024-07-25 14:21:07,843 - INFO - Extracted 0 URLs from search results\n",
      "2024-07-25 14:21:07,844 - INFO - Table 'newspaper_data' created or already exists\n",
      "2024-07-25 14:21:07,845 - INFO - Data processing completed. Total rows saved: 0\n",
      "2024-07-25 14:21:07,846 - INFO - Starting fetch_newspaper_data for query: Södra teatern i Stadshuset, dates: 1908-01-01 to 1908-06-30\n",
      "2024-07-25 14:21:07,980 - INFO - Search results received. Hits: 0\n",
      "2024-07-25 14:21:07,981 - INFO - Extracted 0 URLs from search results\n",
      "2024-07-25 14:21:07,982 - INFO - Table 'newspaper_data' created or already exists\n",
      "2024-07-25 14:21:07,982 - INFO - Data processing completed. Total rows saved: 0\n",
      "2024-07-25 14:21:07,983 - INFO - Starting fetch_newspaper_data for query: Stadshus salongen, dates: 1908-01-01 to 1908-06-30\n"
     ]
    },
    {
     "name": "stdout",
     "output_type": "stream",
     "text": [
      "Processed query 'La Croix mindre salong' successfully.\n",
      "Checkpoint saved: Year 1908, Half 0, Index 9\n",
      "Processed query 'Södra teatern i Stadshuset' successfully.\n",
      "Checkpoint saved: Year 1908, Half 0, Index 10\n"
     ]
    },
    {
     "name": "stderr",
     "output_type": "stream",
     "text": [
      "2024-07-25 14:21:08,138 - INFO - Search results received. Hits: 0\n",
      "2024-07-25 14:21:08,139 - INFO - Extracted 0 URLs from search results\n",
      "2024-07-25 14:21:08,140 - INFO - Table 'newspaper_data' created or already exists\n",
      "2024-07-25 14:21:08,141 - INFO - Data processing completed. Total rows saved: 0\n",
      "2024-07-25 14:21:08,142 - INFO - Starting fetch_newspaper_data for query: Stora börssalen, dates: 1908-01-01 to 1908-06-30\n",
      "2024-07-25 14:21:08,270 - INFO - Search results received. Hits: 0\n",
      "2024-07-25 14:21:08,270 - INFO - Extracted 0 URLs from search results\n",
      "2024-07-25 14:21:08,272 - INFO - Table 'newspaper_data' created or already exists\n",
      "2024-07-25 14:21:08,273 - INFO - Data processing completed. Total rows saved: 0\n",
      "2024-07-25 14:21:08,274 - INFO - Starting fetch_newspaper_data for query: St Nicolai kyrka, dates: 1908-01-01 to 1908-06-30\n"
     ]
    },
    {
     "name": "stdout",
     "output_type": "stream",
     "text": [
      "Processed query 'Stadshus salongen' successfully.\n",
      "Checkpoint saved: Year 1908, Half 0, Index 11\n",
      "Processed query 'Stora börssalen' successfully.\n",
      "Checkpoint saved: Year 1908, Half 0, Index 12\n"
     ]
    },
    {
     "name": "stderr",
     "output_type": "stream",
     "text": [
      "2024-07-25 14:21:08,503 - INFO - Search results received. Hits: 0\n",
      "2024-07-25 14:21:08,504 - INFO - Extracted 0 URLs from search results\n",
      "2024-07-25 14:21:08,506 - INFO - Table 'newspaper_data' created or already exists\n",
      "2024-07-25 14:21:08,507 - INFO - Data processing completed. Total rows saved: 0\n",
      "2024-07-25 14:21:08,509 - INFO - Starting fetch_newspaper_data for query: Ladugårdslands kyrka, dates: 1908-01-01 to 1908-06-30\n",
      "2024-07-25 14:21:08,686 - INFO - Search results received. Hits: 0\n",
      "2024-07-25 14:21:08,687 - INFO - Extracted 0 URLs from search results\n",
      "2024-07-25 14:21:08,688 - INFO - Table 'newspaper_data' created or already exists\n",
      "2024-07-25 14:21:08,689 - INFO - Data processing completed. Total rows saved: 0\n",
      "2024-07-25 14:21:08,691 - INFO - Starting fetch_newspaper_data for query: Hedvig Eleonora, dates: 1908-01-01 to 1908-06-30\n"
     ]
    },
    {
     "name": "stdout",
     "output_type": "stream",
     "text": [
      "Processed query 'St Nicolai kyrka' successfully.\n",
      "Checkpoint saved: Year 1908, Half 0, Index 13\n",
      "Processed query 'Ladugårdslands kyrka' successfully.\n",
      "Checkpoint saved: Year 1908, Half 0, Index 14\n"
     ]
    },
    {
     "name": "stderr",
     "output_type": "stream",
     "text": [
      "2024-07-25 14:21:08,868 - INFO - Search results received. Hits: 0\n",
      "2024-07-25 14:21:08,868 - INFO - Extracted 0 URLs from search results\n",
      "2024-07-25 14:21:08,869 - INFO - Table 'newspaper_data' created or already exists\n",
      "2024-07-25 14:21:08,869 - INFO - Data processing completed. Total rows saved: 0\n",
      "2024-07-25 14:21:08,870 - INFO - Starting fetch_newspaper_data for query: Östermalms ka, dates: 1908-01-01 to 1908-06-30\n",
      "2024-07-25 14:21:08,990 - INFO - Search results received. Hits: 0\n",
      "2024-07-25 14:21:08,990 - INFO - Extracted 0 URLs from search results\n",
      "2024-07-25 14:21:08,991 - INFO - Table 'newspaper_data' created or already exists\n",
      "2024-07-25 14:21:08,992 - INFO - Data processing completed. Total rows saved: 0\n",
      "2024-07-25 14:21:08,993 - INFO - Starting fetch_newspaper_data for query: Trädgårdsföreningens lokal, dates: 1908-01-01 to 1908-06-30\n"
     ]
    },
    {
     "name": "stdout",
     "output_type": "stream",
     "text": [
      "Processed query 'Hedvig Eleonora' successfully.\n",
      "Checkpoint saved: Year 1908, Half 0, Index 15\n",
      "Processed query 'Östermalms ka' successfully.\n",
      "Checkpoint saved: Year 1908, Half 0, Index 16\n"
     ]
    },
    {
     "name": "stderr",
     "output_type": "stream",
     "text": [
      "2024-07-25 14:21:09,126 - INFO - Search results received. Hits: 0\n",
      "2024-07-25 14:21:09,127 - INFO - Extracted 0 URLs from search results\n",
      "2024-07-25 14:21:09,129 - INFO - Table 'newspaper_data' created or already exists\n",
      "2024-07-25 14:21:09,129 - INFO - Data processing completed. Total rows saved: 0\n",
      "2024-07-25 14:21:09,130 - INFO - Starting fetch_newspaper_data for query: Tyska bryggeriets trädgård (Tullportsgatan 42 på Söder), dates: 1908-01-01 to 1908-06-30\n"
     ]
    },
    {
     "name": "stdout",
     "output_type": "stream",
     "text": [
      "Processed query 'Trädgårdsföreningens lokal' successfully.\n",
      "Checkpoint saved: Year 1908, Half 0, Index 17\n"
     ]
    },
    {
     "name": "stderr",
     "output_type": "stream",
     "text": [
      "2024-07-25 14:21:09,376 - INFO - Search results received. Hits: 0\n",
      "2024-07-25 14:21:09,377 - INFO - Extracted 0 URLs from search results\n",
      "2024-07-25 14:21:09,378 - INFO - Table 'newspaper_data' created or already exists\n",
      "2024-07-25 14:21:09,379 - INFO - Data processing completed. Total rows saved: 0\n",
      "2024-07-25 14:21:09,381 - INFO - Starting fetch_newspaper_data for query: Stora mosebacke trädgård, dates: 1908-01-01 to 1908-06-30\n",
      "2024-07-25 14:21:09,519 - INFO - Search results received. Hits: 0\n",
      "2024-07-25 14:21:09,520 - INFO - Extracted 0 URLs from search results\n",
      "2024-07-25 14:21:09,521 - INFO - Table 'newspaper_data' created or already exists\n",
      "2024-07-25 14:21:09,522 - INFO - Data processing completed. Total rows saved: 0\n",
      "2024-07-25 14:21:09,524 - INFO - Starting fetch_newspaper_data for query: Kungl. Humlegården, dates: 1908-01-01 to 1908-06-30\n"
     ]
    },
    {
     "name": "stdout",
     "output_type": "stream",
     "text": [
      "Processed query 'Tyska bryggeriets trädgård (Tullportsgatan 42 på Söder)' successfully.\n",
      "Checkpoint saved: Year 1908, Half 0, Index 18\n",
      "Processed query 'Stora mosebacke trädgård' successfully.\n",
      "Checkpoint saved: Year 1908, Half 0, Index 19\n"
     ]
    },
    {
     "name": "stderr",
     "output_type": "stream",
     "text": [
      "2024-07-25 14:21:09,688 - INFO - Search results received. Hits: 0\n",
      "2024-07-25 14:21:09,689 - INFO - Extracted 0 URLs from search results\n",
      "2024-07-25 14:21:09,690 - INFO - Table 'newspaper_data' created or already exists\n",
      "2024-07-25 14:21:09,690 - INFO - Data processing completed. Total rows saved: 0\n",
      "2024-07-25 14:21:09,692 - INFO - Starting fetch_newspaper_data for query: Tivoli vid Nortullsgatan, dates: 1908-01-01 to 1908-06-30\n"
     ]
    },
    {
     "name": "stdout",
     "output_type": "stream",
     "text": [
      "Processed query 'Kungl. Humlegården' successfully.\n",
      "Checkpoint saved: Year 1908, Half 0, Index 20\n"
     ]
    },
    {
     "name": "stderr",
     "output_type": "stream",
     "text": [
      "2024-07-25 14:21:09,913 - INFO - Search results received. Hits: 0\n",
      "2024-07-25 14:21:09,914 - INFO - Extracted 0 URLs from search results\n",
      "2024-07-25 14:21:09,917 - INFO - Table 'newspaper_data' created or already exists\n",
      "2024-07-25 14:21:09,918 - INFO - Data processing completed. Total rows saved: 0\n",
      "2024-07-25 14:21:09,920 - INFO - Starting fetch_newspaper_data for query: Novilla på Kungl. Djurgården, dates: 1908-01-01 to 1908-06-30\n",
      "2024-07-25 14:21:10,105 - INFO - Search results received. Hits: 0\n",
      "2024-07-25 14:21:10,106 - INFO - Extracted 0 URLs from search results\n",
      "2024-07-25 14:21:10,108 - INFO - Table 'newspaper_data' created or already exists\n",
      "2024-07-25 14:21:10,109 - INFO - Data processing completed. Total rows saved: 0\n",
      "2024-07-25 14:21:10,110 - INFO - Starting fetch_newspaper_data for query: Kungl. Djurgårdsbrunns salong, dates: 1908-01-01 to 1908-06-30\n"
     ]
    },
    {
     "name": "stdout",
     "output_type": "stream",
     "text": [
      "Processed query 'Tivoli vid Nortullsgatan' successfully.\n",
      "Checkpoint saved: Year 1908, Half 0, Index 21\n",
      "Processed query 'Novilla på Kungl. Djurgården' successfully.\n",
      "Checkpoint saved: Year 1908, Half 0, Index 22\n"
     ]
    },
    {
     "name": "stderr",
     "output_type": "stream",
     "text": [
      "2024-07-25 14:21:10,266 - INFO - Search results received. Hits: 0\n",
      "2024-07-25 14:21:10,266 - INFO - Extracted 0 URLs from search results\n",
      "2024-07-25 14:21:10,268 - INFO - Table 'newspaper_data' created or already exists\n",
      "2024-07-25 14:21:10,269 - INFO - Data processing completed. Total rows saved: 0\n",
      "2024-07-25 14:21:10,271 - INFO - Starting fetch_newspaper_data for query: Mindre teatern, dates: 1908-01-01 to 1908-06-30\n",
      "2024-07-25 14:21:10,397 - INFO - Search results received. Hits: 0\n",
      "2024-07-25 14:21:10,398 - INFO - Extracted 0 URLs from search results\n",
      "2024-07-25 14:21:10,398 - INFO - Table 'newspaper_data' created or already exists\n",
      "2024-07-25 14:21:10,399 - INFO - Data processing completed. Total rows saved: 0\n",
      "2024-07-25 14:21:10,400 - INFO - Starting fetch_newspaper_data for query: Strömsborg, dates: 1908-01-01 to 1908-06-30\n"
     ]
    },
    {
     "name": "stdout",
     "output_type": "stream",
     "text": [
      "Processed query 'Kungl. Djurgårdsbrunns salong' successfully.\n",
      "Checkpoint saved: Year 1908, Half 0, Index 23\n",
      "Processed query 'Mindre teatern' successfully.\n",
      "Checkpoint saved: Year 1908, Half 0, Index 24\n"
     ]
    },
    {
     "name": "stderr",
     "output_type": "stream",
     "text": [
      "2024-07-25 14:21:10,510 - INFO - Search results received. Hits: 0\n",
      "2024-07-25 14:21:10,511 - INFO - Extracted 0 URLs from search results\n",
      "2024-07-25 14:21:10,512 - INFO - Table 'newspaper_data' created or already exists\n",
      "2024-07-25 14:21:10,513 - INFO - Data processing completed. Total rows saved: 0\n",
      "2024-07-25 14:21:10,514 - INFO - Starting fetch_newspaper_data for query: Nedre Börssalen, dates: 1908-01-01 to 1908-06-30\n",
      "2024-07-25 14:21:10,639 - INFO - Search results received. Hits: 0\n",
      "2024-07-25 14:21:10,639 - INFO - Extracted 0 URLs from search results\n",
      "2024-07-25 14:21:10,640 - INFO - Table 'newspaper_data' created or already exists\n",
      "2024-07-25 14:21:10,641 - INFO - Data processing completed. Total rows saved: 0\n",
      "2024-07-25 14:21:10,642 - INFO - Starting fetch_newspaper_data for query: Mosebacke, dates: 1908-01-01 to 1908-06-30\n"
     ]
    },
    {
     "name": "stdout",
     "output_type": "stream",
     "text": [
      "Processed query 'Strömsborg' successfully.\n",
      "Checkpoint saved: Year 1908, Half 0, Index 25\n",
      "Processed query 'Nedre Börssalen' successfully.\n",
      "Checkpoint saved: Year 1908, Half 0, Index 26\n"
     ]
    },
    {
     "name": "stderr",
     "output_type": "stream",
     "text": [
      "2024-07-25 14:21:10,752 - INFO - Search results received. Hits: 0\n",
      "2024-07-25 14:21:10,752 - INFO - Extracted 0 URLs from search results\n",
      "2024-07-25 14:21:10,753 - INFO - Table 'newspaper_data' created or already exists\n",
      "2024-07-25 14:21:10,754 - INFO - Data processing completed. Total rows saved: 0\n",
      "2024-07-25 14:21:10,755 - INFO - Starting fetch_newspaper_data for query: Storkyrkan, dates: 1908-01-01 to 1908-06-30\n",
      "2024-07-25 14:21:10,907 - INFO - Search results received. Hits: 0\n",
      "2024-07-25 14:21:10,908 - INFO - Extracted 0 URLs from search results\n",
      "2024-07-25 14:21:10,909 - INFO - Table 'newspaper_data' created or already exists\n",
      "2024-07-25 14:21:10,910 - INFO - Data processing completed. Total rows saved: 0\n",
      "2024-07-25 14:21:10,911 - INFO - Starting fetch_newspaper_data for query: Pavillion du bazar på Norrbron, dates: 1908-01-01 to 1908-06-30\n"
     ]
    },
    {
     "name": "stdout",
     "output_type": "stream",
     "text": [
      "Processed query 'Mosebacke' successfully.\n",
      "Checkpoint saved: Year 1908, Half 0, Index 27\n",
      "Processed query 'Storkyrkan' successfully.\n",
      "Checkpoint saved: Year 1908, Half 0, Index 28\n"
     ]
    },
    {
     "name": "stderr",
     "output_type": "stream",
     "text": [
      "2024-07-25 14:21:11,101 - INFO - Search results received. Hits: 0\n",
      "2024-07-25 14:21:11,101 - INFO - Extracted 0 URLs from search results\n",
      "2024-07-25 14:21:11,102 - INFO - Table 'newspaper_data' created or already exists\n",
      "2024-07-25 14:21:11,103 - INFO - Data processing completed. Total rows saved: 0\n",
      "2024-07-25 14:21:11,104 - INFO - Starting fetch_newspaper_data for query: Södra teatern, dates: 1908-01-01 to 1908-06-30\n",
      "2024-07-25 14:21:11,203 - INFO - Search results received. Hits: 0\n",
      "2024-07-25 14:21:11,203 - INFO - Extracted 0 URLs from search results\n",
      "2024-07-25 14:21:11,204 - INFO - Table 'newspaper_data' created or already exists\n",
      "2024-07-25 14:21:11,205 - INFO - Data processing completed. Total rows saved: 0\n",
      "2024-07-25 14:21:11,206 - INFO - Starting fetch_newspaper_data for query: Värdshuset Johannshov, dates: 1908-01-01 to 1908-06-30\n"
     ]
    },
    {
     "name": "stdout",
     "output_type": "stream",
     "text": [
      "Processed query 'Pavillion du bazar på Norrbron' successfully.\n",
      "Checkpoint saved: Year 1908, Half 0, Index 29\n",
      "Processed query 'Södra teatern' successfully.\n",
      "Checkpoint saved: Year 1908, Half 0, Index 30\n"
     ]
    },
    {
     "name": "stderr",
     "output_type": "stream",
     "text": [
      "2024-07-25 14:21:11,365 - INFO - Search results received. Hits: 0\n",
      "2024-07-25 14:21:11,366 - INFO - Extracted 0 URLs from search results\n",
      "2024-07-25 14:21:11,367 - INFO - Table 'newspaper_data' created or already exists\n",
      "2024-07-25 14:21:11,367 - INFO - Data processing completed. Total rows saved: 0\n",
      "2024-07-25 14:21:11,369 - INFO - Starting fetch_newspaper_data for query: Värdshuset Claës på Hörnet, dates: 1908-01-01 to 1908-06-30\n",
      "2024-07-25 14:21:11,489 - INFO - Search results received. Hits: 0\n",
      "2024-07-25 14:21:11,490 - INFO - Extracted 0 URLs from search results\n",
      "2024-07-25 14:21:11,491 - INFO - Table 'newspaper_data' created or already exists\n",
      "2024-07-25 14:21:11,492 - INFO - Data processing completed. Total rows saved: 0\n",
      "2024-07-25 14:21:11,493 - INFO - Starting fetch_newspaper_data for query: Vinterträdgården i Novilla, dates: 1908-01-01 to 1908-06-30\n"
     ]
    },
    {
     "name": "stdout",
     "output_type": "stream",
     "text": [
      "Processed query 'Värdshuset Johannshov' successfully.\n",
      "Checkpoint saved: Year 1908, Half 0, Index 31\n",
      "Processed query 'Värdshuset Claës på Hörnet' successfully.\n",
      "Checkpoint saved: Year 1908, Half 0, Index 32\n"
     ]
    },
    {
     "name": "stderr",
     "output_type": "stream",
     "text": [
      "2024-07-25 14:21:11,650 - INFO - Search results received. Hits: 0\n",
      "2024-07-25 14:21:11,650 - INFO - Extracted 0 URLs from search results\n",
      "2024-07-25 14:21:11,651 - INFO - Table 'newspaper_data' created or already exists\n",
      "2024-07-25 14:21:11,652 - INFO - Data processing completed. Total rows saved: 0\n",
      "2024-07-25 14:21:11,653 - INFO - Starting fetch_newspaper_data for query: Stadssmedsgatan nr 9, dates: 1908-01-01 to 1908-06-30\n",
      "2024-07-25 14:21:11,840 - INFO - Search results received. Hits: 0\n",
      "2024-07-25 14:21:11,841 - INFO - Extracted 0 URLs from search results\n",
      "2024-07-25 14:21:11,842 - INFO - Table 'newspaper_data' created or already exists\n",
      "2024-07-25 14:21:11,843 - INFO - Data processing completed. Total rows saved: 0\n",
      "2024-07-25 14:21:11,844 - INFO - Starting fetch_newspaper_data for query: Beridarbansgatan nr 18, dates: 1908-01-01 to 1908-06-30\n"
     ]
    },
    {
     "name": "stdout",
     "output_type": "stream",
     "text": [
      "Processed query 'Vinterträdgården i Novilla' successfully.\n",
      "Checkpoint saved: Year 1908, Half 0, Index 33\n",
      "Processed query 'Stadssmedsgatan nr 9' successfully.\n",
      "Checkpoint saved: Year 1908, Half 0, Index 34\n"
     ]
    },
    {
     "name": "stderr",
     "output_type": "stream",
     "text": [
      "2024-07-25 14:21:11,997 - INFO - Search results received. Hits: 0\n",
      "2024-07-25 14:21:11,998 - INFO - Extracted 0 URLs from search results\n",
      "2024-07-25 14:21:12,000 - INFO - Table 'newspaper_data' created or already exists\n",
      "2024-07-25 14:21:12,001 - INFO - Data processing completed. Total rows saved: 0\n",
      "2024-07-25 14:21:12,002 - INFO - Starting fetch_newspaper_data for query: Davidssons södra paviljong, dates: 1908-01-01 to 1908-06-30\n",
      "2024-07-25 14:21:12,159 - INFO - Search results received. Hits: 0\n",
      "2024-07-25 14:21:12,160 - INFO - Extracted 0 URLs from search results\n",
      "2024-07-25 14:21:12,162 - INFO - Table 'newspaper_data' created or already exists\n",
      "2024-07-25 14:21:12,163 - INFO - Data processing completed. Total rows saved: 0\n",
      "2024-07-25 14:21:12,164 - INFO - Starting fetch_newspaper_data for query: Kungliga musikaliska akademiens lokal, dates: 1908-01-01 to 1908-06-30\n"
     ]
    },
    {
     "name": "stdout",
     "output_type": "stream",
     "text": [
      "Processed query 'Beridarbansgatan nr 18' successfully.\n",
      "Checkpoint saved: Year 1908, Half 0, Index 35\n",
      "Processed query 'Davidssons södra paviljong' successfully.\n",
      "Checkpoint saved: Year 1908, Half 0, Index 36\n"
     ]
    },
    {
     "name": "stderr",
     "output_type": "stream",
     "text": [
      "2024-07-25 14:21:12,292 - INFO - Search results received. Hits: 0\n",
      "2024-07-25 14:21:12,293 - INFO - Extracted 0 URLs from search results\n",
      "2024-07-25 14:21:12,294 - INFO - Table 'newspaper_data' created or already exists\n",
      "2024-07-25 14:21:12,294 - INFO - Data processing completed. Total rows saved: 0\n",
      "2024-07-25 14:21:12,296 - INFO - Starting fetch_newspaper_data for query: Konsertsalongen på Kungliga Djurgården, dates: 1908-01-01 to 1908-06-30\n",
      "2024-07-25 14:21:12,477 - INFO - Search results received. Hits: 0\n",
      "2024-07-25 14:21:12,478 - INFO - Extracted 0 URLs from search results\n",
      "2024-07-25 14:21:12,479 - INFO - Table 'newspaper_data' created or already exists\n",
      "2024-07-25 14:21:12,480 - INFO - Data processing completed. Total rows saved: 0\n",
      "2024-07-25 14:21:12,482 - INFO - Starting fetch_newspaper_data for query: Lilla Catharineberg, dates: 1908-01-01 to 1908-06-30\n"
     ]
    },
    {
     "name": "stdout",
     "output_type": "stream",
     "text": [
      "Processed query 'Kungliga musikaliska akademiens lokal' successfully.\n",
      "Checkpoint saved: Year 1908, Half 0, Index 37\n",
      "Processed query 'Konsertsalongen på Kungliga Djurgården' successfully.\n",
      "Checkpoint saved: Year 1908, Half 0, Index 38\n"
     ]
    },
    {
     "name": "stderr",
     "output_type": "stream",
     "text": [
      "2024-07-25 14:21:12,637 - INFO - Search results received. Hits: 0\n",
      "2024-07-25 14:21:12,638 - INFO - Extracted 0 URLs from search results\n",
      "2024-07-25 14:21:12,638 - INFO - Table 'newspaper_data' created or already exists\n",
      "2024-07-25 14:21:12,639 - INFO - Data processing completed. Total rows saved: 0\n",
      "2024-07-25 14:21:12,640 - INFO - Starting fetch_newspaper_data for query: Vid prins Gustafs byst vid Haga, dates: 1908-01-01 to 1908-06-30\n",
      "2024-07-25 14:21:12,807 - INFO - Search results received. Hits: 0\n",
      "2024-07-25 14:21:12,807 - INFO - Extracted 0 URLs from search results\n",
      "2024-07-25 14:21:12,808 - INFO - Table 'newspaper_data' created or already exists\n",
      "2024-07-25 14:21:12,809 - INFO - Data processing completed. Total rows saved: 0\n",
      "2024-07-25 14:21:12,810 - INFO - Starting fetch_newspaper_data for query: Waxholms kyrka, dates: 1908-01-01 to 1908-06-30\n"
     ]
    },
    {
     "name": "stdout",
     "output_type": "stream",
     "text": [
      "Processed query 'Lilla Catharineberg' successfully.\n",
      "Checkpoint saved: Year 1908, Half 0, Index 39\n",
      "Processed query 'Vid prins Gustafs byst vid Haga' successfully.\n",
      "Checkpoint saved: Year 1908, Half 0, Index 40\n"
     ]
    },
    {
     "name": "stderr",
     "output_type": "stream",
     "text": [
      "2024-07-25 14:21:12,922 - INFO - Search results received. Hits: 0\n",
      "2024-07-25 14:21:12,922 - INFO - Extracted 0 URLs from search results\n",
      "2024-07-25 14:21:12,923 - INFO - Table 'newspaper_data' created or already exists\n",
      "2024-07-25 14:21:12,924 - INFO - Data processing completed. Total rows saved: 0\n",
      "2024-07-25 14:21:12,925 - INFO - Starting fetch_newspaper_data for query: Södertelje kyrka, dates: 1908-01-01 to 1908-06-30\n",
      "2024-07-25 14:21:13,032 - INFO - Search results received. Hits: 0\n",
      "2024-07-25 14:21:13,033 - INFO - Extracted 0 URLs from search results\n",
      "2024-07-25 14:21:13,034 - INFO - Table 'newspaper_data' created or already exists\n",
      "2024-07-25 14:21:13,034 - INFO - Data processing completed. Total rows saved: 0\n",
      "2024-07-25 14:21:13,035 - INFO - Starting fetch_newspaper_data for query: Kungshatt, dates: 1908-01-01 to 1908-06-30\n"
     ]
    },
    {
     "name": "stdout",
     "output_type": "stream",
     "text": [
      "Processed query 'Waxholms kyrka' successfully.\n",
      "Checkpoint saved: Year 1908, Half 0, Index 41\n",
      "Processed query 'Södertelje kyrka' successfully.\n",
      "Checkpoint saved: Year 1908, Half 0, Index 42\n"
     ]
    },
    {
     "name": "stderr",
     "output_type": "stream",
     "text": [
      "2024-07-25 14:21:13,174 - INFO - Search results received. Hits: 0\n",
      "2024-07-25 14:21:13,174 - INFO - Extracted 0 URLs from search results\n",
      "2024-07-25 14:21:13,175 - INFO - Table 'newspaper_data' created or already exists\n",
      "2024-07-25 14:21:13,176 - INFO - Data processing completed. Total rows saved: 0\n",
      "2024-07-25 14:21:13,178 - INFO - Starting fetch_newspaper_data for query: Djurgården, dates: 1908-01-01 to 1908-06-30\n",
      "2024-07-25 14:21:13,310 - INFO - Search results received. Hits: 0\n",
      "2024-07-25 14:21:13,310 - INFO - Extracted 0 URLs from search results\n",
      "2024-07-25 14:21:13,311 - INFO - Table 'newspaper_data' created or already exists\n",
      "2024-07-25 14:21:13,312 - INFO - Data processing completed. Total rows saved: 0\n",
      "2024-07-25 14:21:13,321 - INFO - Starting fetch_newspaper_data for query: Vaxholm (nya salongen), dates: 1908-01-01 to 1908-06-30\n"
     ]
    },
    {
     "name": "stdout",
     "output_type": "stream",
     "text": [
      "Processed query 'Kungshatt' successfully.\n",
      "Checkpoint saved: Year 1908, Half 0, Index 43\n",
      "Processed query 'Djurgården' successfully.\n",
      "Checkpoint saved: Year 1908, Half 0, Index 44\n"
     ]
    },
    {
     "name": "stderr",
     "output_type": "stream",
     "text": [
      "2024-07-25 14:21:13,490 - INFO - Search results received. Hits: 0\n",
      "2024-07-25 14:21:13,490 - INFO - Extracted 0 URLs from search results\n",
      "2024-07-25 14:21:13,491 - INFO - Table 'newspaper_data' created or already exists\n",
      "2024-07-25 14:21:13,492 - INFO - Data processing completed. Total rows saved: 0\n",
      "2024-07-25 14:21:13,493 - INFO - Starting fetch_newspaper_data for query: Hasselbacken, dates: 1908-01-01 to 1908-06-30\n",
      "2024-07-25 14:21:13,623 - INFO - Search results received. Hits: 0\n",
      "2024-07-25 14:21:13,624 - INFO - Extracted 0 URLs from search results\n",
      "2024-07-25 14:21:13,625 - INFO - Table 'newspaper_data' created or already exists\n",
      "2024-07-25 14:21:13,625 - INFO - Data processing completed. Total rows saved: 0\n",
      "2024-07-25 14:21:13,626 - INFO - Starting fetch_newspaper_data for query: Djurgårdsteatern, dates: 1908-01-01 to 1908-06-30\n"
     ]
    },
    {
     "name": "stdout",
     "output_type": "stream",
     "text": [
      "Processed query 'Vaxholm (nya salongen)' successfully.\n",
      "Checkpoint saved: Year 1908, Half 0, Index 45\n",
      "Processed query 'Hasselbacken' successfully.\n",
      "Checkpoint saved: Year 1908, Half 0, Index 46\n"
     ]
    },
    {
     "name": "stderr",
     "output_type": "stream",
     "text": [
      "2024-07-25 14:21:13,763 - INFO - Search results received. Hits: 0\n",
      "2024-07-25 14:21:13,764 - INFO - Extracted 0 URLs from search results\n",
      "2024-07-25 14:21:13,765 - INFO - Table 'newspaper_data' created or already exists\n",
      "2024-07-25 14:21:13,766 - INFO - Data processing completed. Total rows saved: 0\n",
      "2024-07-25 14:21:13,767 - INFO - Starting fetch_newspaper_data for query: Katolska kapellet, dates: 1908-01-01 to 1908-06-30\n",
      "2024-07-25 14:21:13,881 - INFO - Search results received. Hits: 0\n",
      "2024-07-25 14:21:13,882 - INFO - Extracted 0 URLs from search results\n",
      "2024-07-25 14:21:13,883 - INFO - Table 'newspaper_data' created or already exists\n",
      "2024-07-25 14:21:13,884 - INFO - Data processing completed. Total rows saved: 0\n",
      "2024-07-25 14:21:13,885 - INFO - Starting fetch_newspaper_data for query: Drottninggatan 80, dates: 1908-01-01 to 1908-06-30\n"
     ]
    },
    {
     "name": "stdout",
     "output_type": "stream",
     "text": [
      "Processed query 'Djurgårdsteatern' successfully.\n",
      "Checkpoint saved: Year 1908, Half 0, Index 47\n",
      "Processed query 'Katolska kapellet' successfully.\n",
      "Checkpoint saved: Year 1908, Half 0, Index 48\n"
     ]
    },
    {
     "name": "stderr",
     "output_type": "stream",
     "text": [
      "2024-07-25 14:21:14,021 - INFO - Search results received. Hits: 0\n",
      "2024-07-25 14:21:14,021 - INFO - Extracted 0 URLs from search results\n",
      "2024-07-25 14:21:14,023 - INFO - Table 'newspaper_data' created or already exists\n",
      "2024-07-25 14:21:14,024 - INFO - Data processing completed. Total rows saved: 0\n",
      "2024-07-25 14:21:14,026 - INFO - Starting fetch_newspaper_data for query: Robert Kahns lokal Drottninggatan 5, dates: 1908-01-01 to 1908-06-30\n",
      "2024-07-25 14:21:14,214 - INFO - Search results received. Hits: 0\n",
      "2024-07-25 14:21:14,214 - INFO - Extracted 0 URLs from search results\n",
      "2024-07-25 14:21:14,215 - INFO - Table 'newspaper_data' created or already exists\n",
      "2024-07-25 14:21:14,216 - INFO - Data processing completed. Total rows saved: 0\n",
      "2024-07-25 14:21:14,217 - INFO - Starting fetch_newspaper_data for query: Hagströms konditori/schweizeri, Beridaregatan 18, dates: 1908-01-01 to 1908-06-30\n"
     ]
    },
    {
     "name": "stdout",
     "output_type": "stream",
     "text": [
      "Processed query 'Drottninggatan 80' successfully.\n",
      "Checkpoint saved: Year 1908, Half 0, Index 49\n",
      "Processed query 'Robert Kahns lokal Drottninggatan 5' successfully.\n",
      "Checkpoint saved: Year 1908, Half 0, Index 50\n"
     ]
    },
    {
     "name": "stderr",
     "output_type": "stream",
     "text": [
      "2024-07-25 14:21:14,449 - INFO - Search results received. Hits: 0\n",
      "2024-07-25 14:21:14,450 - INFO - Extracted 0 URLs from search results\n",
      "2024-07-25 14:21:14,452 - INFO - Table 'newspaper_data' created or already exists\n",
      "2024-07-25 14:21:14,453 - INFO - Data processing completed. Total rows saved: 0\n",
      "2024-07-25 14:21:14,455 - INFO - Starting fetch_newspaper_data for query: Berzeli park, dates: 1908-01-01 to 1908-06-30\n",
      "2024-07-25 14:21:14,600 - INFO - Search results received. Hits: 0\n",
      "2024-07-25 14:21:14,601 - INFO - Extracted 0 URLs from search results\n",
      "2024-07-25 14:21:14,603 - INFO - Table 'newspaper_data' created or already exists\n",
      "2024-07-25 14:21:14,603 - INFO - Data processing completed. Total rows saved: 0\n",
      "2024-07-25 14:21:14,605 - INFO - Starting fetch_newspaper_data for query: Bährs lokal (Vid Riddarhustorget), dates: 1908-01-01 to 1908-06-30\n"
     ]
    },
    {
     "name": "stdout",
     "output_type": "stream",
     "text": [
      "Processed query 'Hagströms konditori/schweizeri, Beridaregatan 18' successfully.\n",
      "Checkpoint saved: Year 1908, Half 0, Index 51\n",
      "Processed query 'Berzeli park' successfully.\n",
      "Checkpoint saved: Year 1908, Half 0, Index 52\n"
     ]
    },
    {
     "name": "stderr",
     "output_type": "stream",
     "text": [
      "2024-07-25 14:21:14,754 - INFO - Search results received. Hits: 0\n",
      "2024-07-25 14:21:14,754 - INFO - Extracted 0 URLs from search results\n",
      "2024-07-25 14:21:14,755 - INFO - Table 'newspaper_data' created or already exists\n",
      "2024-07-25 14:21:14,755 - INFO - Data processing completed. Total rows saved: 0\n",
      "2024-07-25 14:21:14,756 - INFO - Starting fetch_newspaper_data for query: Lilla Ingermarshof, dates: 1908-01-01 to 1908-06-30\n"
     ]
    },
    {
     "name": "stdout",
     "output_type": "stream",
     "text": [
      "Processed query 'Bährs lokal (Vid Riddarhustorget)' successfully.\n",
      "Checkpoint saved: Year 1908, Half 0, Index 53\n"
     ]
    },
    {
     "name": "stderr",
     "output_type": "stream",
     "text": [
      "2024-07-25 14:21:14,976 - INFO - Search results received. Hits: 0\n",
      "2024-07-25 14:21:14,977 - INFO - Extracted 0 URLs from search results\n",
      "2024-07-25 14:21:14,978 - INFO - Table 'newspaper_data' created or already exists\n",
      "2024-07-25 14:21:14,978 - INFO - Data processing completed. Total rows saved: 0\n",
      "2024-07-25 14:21:14,995 - INFO - Starting fetch_newspaper_data for query: Tivoli å Kongl Djurgården, dates: 1908-01-01 to 1908-06-30\n",
      "2024-07-25 14:21:15,140 - INFO - Search results received. Hits: 0\n",
      "2024-07-25 14:21:15,140 - INFO - Extracted 0 URLs from search results\n",
      "2024-07-25 14:21:15,141 - INFO - Table 'newspaper_data' created or already exists\n",
      "2024-07-25 14:21:15,142 - INFO - Data processing completed. Total rows saved: 0\n",
      "2024-07-25 14:21:15,143 - INFO - Starting fetch_newspaper_data for query: Kungl. Humlegårdens Rotunda, dates: 1908-01-01 to 1908-06-30\n"
     ]
    },
    {
     "name": "stdout",
     "output_type": "stream",
     "text": [
      "Processed query 'Lilla Ingermarshof' successfully.\n",
      "Checkpoint saved: Year 1908, Half 0, Index 54\n",
      "Processed query 'Tivoli å Kongl Djurgården' successfully.\n",
      "Checkpoint saved: Year 1908, Half 0, Index 55\n"
     ]
    },
    {
     "name": "stderr",
     "output_type": "stream",
     "text": [
      "2024-07-25 14:21:15,308 - INFO - Search results received. Hits: 0\n",
      "2024-07-25 14:21:15,309 - INFO - Extracted 0 URLs from search results\n",
      "2024-07-25 14:21:15,310 - INFO - Table 'newspaper_data' created or already exists\n",
      "2024-07-25 14:21:15,311 - INFO - Data processing completed. Total rows saved: 0\n",
      "2024-07-25 14:21:15,312 - INFO - Starting fetch_newspaper_data for query: Ladugårdslandsteaterns trädgård, dates: 1908-01-01 to 1908-06-30\n",
      "2024-07-25 14:21:15,481 - INFO - Search results received. Hits: 0\n",
      "2024-07-25 14:21:15,482 - INFO - Extracted 0 URLs from search results\n",
      "2024-07-25 14:21:15,484 - INFO - Table 'newspaper_data' created or already exists\n",
      "2024-07-25 14:21:15,485 - INFO - Data processing completed. Total rows saved: 0\n",
      "2024-07-25 14:21:15,486 - INFO - Starting fetch_newspaper_data for query: Blå porten på kungl. Djurgården, dates: 1908-01-01 to 1908-06-30\n"
     ]
    },
    {
     "name": "stdout",
     "output_type": "stream",
     "text": [
      "Processed query 'Kungl. Humlegårdens Rotunda' successfully.\n",
      "Checkpoint saved: Year 1908, Half 0, Index 56\n",
      "Processed query 'Ladugårdslandsteaterns trädgård' successfully.\n",
      "Checkpoint saved: Year 1908, Half 0, Index 57\n"
     ]
    },
    {
     "name": "stderr",
     "output_type": "stream",
     "text": [
      "2024-07-25 14:21:15,643 - INFO - Search results received. Hits: 0\n",
      "2024-07-25 14:21:15,643 - INFO - Extracted 0 URLs from search results\n",
      "2024-07-25 14:21:15,644 - INFO - Table 'newspaper_data' created or already exists\n",
      "2024-07-25 14:21:15,644 - INFO - Data processing completed. Total rows saved: 0\n",
      "2024-07-25 14:21:15,645 - INFO - Starting fetch_newspaper_data for query: Schweizeriet på Mosebacke, dates: 1908-01-01 to 1908-06-30\n"
     ]
    },
    {
     "name": "stdout",
     "output_type": "stream",
     "text": [
      "Processed query 'Blå porten på kungl. Djurgården' successfully.\n",
      "Checkpoint saved: Year 1908, Half 0, Index 58\n"
     ]
    },
    {
     "name": "stderr",
     "output_type": "stream",
     "text": [
      "2024-07-25 14:21:15,846 - INFO - Search results received. Hits: 0\n",
      "2024-07-25 14:21:15,847 - INFO - Extracted 0 URLs from search results\n",
      "2024-07-25 14:21:15,848 - INFO - Table 'newspaper_data' created or already exists\n",
      "2024-07-25 14:21:15,849 - INFO - Data processing completed. Total rows saved: 0\n",
      "2024-07-25 14:21:15,851 - INFO - Starting fetch_newspaper_data for query: Värdshuset Lübeck, dates: 1908-01-01 to 1908-06-30\n",
      "2024-07-25 14:21:15,998 - INFO - Search results received. Hits: 0\n",
      "2024-07-25 14:21:15,998 - INFO - Extracted 0 URLs from search results\n",
      "2024-07-25 14:21:15,999 - INFO - Table 'newspaper_data' created or already exists\n",
      "2024-07-25 14:21:16,000 - INFO - Data processing completed. Total rows saved: 0\n",
      "2024-07-25 14:21:16,001 - INFO - Starting fetch_newspaper_data for query: Davidssons norra paviljong, dates: 1908-01-01 to 1908-06-30\n"
     ]
    },
    {
     "name": "stdout",
     "output_type": "stream",
     "text": [
      "Processed query 'Schweizeriet på Mosebacke' successfully.\n",
      "Checkpoint saved: Year 1908, Half 0, Index 59\n",
      "Processed query 'Värdshuset Lübeck' successfully.\n",
      "Checkpoint saved: Year 1908, Half 0, Index 60\n"
     ]
    },
    {
     "name": "stderr",
     "output_type": "stream",
     "text": [
      "2024-07-25 14:21:16,141 - INFO - Search results received. Hits: 0\n",
      "2024-07-25 14:21:16,141 - INFO - Extracted 0 URLs from search results\n",
      "2024-07-25 14:21:16,142 - INFO - Table 'newspaper_data' created or already exists\n",
      "2024-07-25 14:21:16,143 - INFO - Data processing completed. Total rows saved: 0\n",
      "2024-07-25 14:21:16,144 - INFO - Starting fetch_newspaper_data for query: Källaren Nya Norrmalm vid Hötorget, dates: 1908-01-01 to 1908-06-30\n",
      "2024-07-25 14:21:16,294 - INFO - Search results received. Hits: 0\n",
      "2024-07-25 14:21:16,294 - INFO - Extracted 0 URLs from search results\n",
      "2024-07-25 14:21:16,295 - INFO - Table 'newspaper_data' created or already exists\n",
      "2024-07-25 14:21:16,295 - INFO - Data processing completed. Total rows saved: 0\n",
      "2024-07-25 14:21:16,296 - INFO - Starting fetch_newspaper_data for query: Café chantant, dates: 1908-01-01 to 1908-06-30\n"
     ]
    },
    {
     "name": "stdout",
     "output_type": "stream",
     "text": [
      "Processed query 'Davidssons norra paviljong' successfully.\n",
      "Checkpoint saved: Year 1908, Half 0, Index 61\n",
      "Processed query 'Källaren Nya Norrmalm vid Hötorget' successfully.\n",
      "Checkpoint saved: Year 1908, Half 0, Index 62\n"
     ]
    },
    {
     "name": "stderr",
     "output_type": "stream",
     "text": [
      "2024-07-25 14:21:16,406 - INFO - Search results received. Hits: 0\n",
      "2024-07-25 14:21:16,406 - INFO - Extracted 0 URLs from search results\n",
      "2024-07-25 14:21:16,407 - INFO - Table 'newspaper_data' created or already exists\n",
      "2024-07-25 14:21:16,407 - INFO - Data processing completed. Total rows saved: 0\n",
      "2024-07-25 14:21:16,408 - INFO - Starting fetch_newspaper_data for query: Vinterträdgården, Valhalla, Mäster Samuelsgata 51, dates: 1908-01-01 to 1908-06-30\n"
     ]
    },
    {
     "name": "stdout",
     "output_type": "stream",
     "text": [
      "Processed query 'Café chantant' successfully.\n",
      "Checkpoint saved: Year 1908, Half 0, Index 63\n"
     ]
    },
    {
     "name": "stderr",
     "output_type": "stream",
     "text": [
      "2024-07-25 14:21:16,708 - INFO - Search results received. Hits: 0\n",
      "2024-07-25 14:21:16,709 - INFO - Extracted 0 URLs from search results\n",
      "2024-07-25 14:21:16,710 - INFO - Table 'newspaper_data' created or already exists\n",
      "2024-07-25 14:21:16,711 - INFO - Data processing completed. Total rows saved: 0\n",
      "2024-07-25 14:21:16,712 - INFO - Starting fetch_newspaper_data for query: Valhalla, Mäster Samuelsgata 51, dates: 1908-01-01 to 1908-06-30\n"
     ]
    },
    {
     "name": "stdout",
     "output_type": "stream",
     "text": [
      "Processed query 'Vinterträdgården, Valhalla, Mäster Samuelsgata 51' successfully.\n",
      "Checkpoint saved: Year 1908, Half 0, Index 64\n"
     ]
    },
    {
     "name": "stderr",
     "output_type": "stream",
     "text": [
      "2024-07-25 14:21:16,941 - INFO - Search results received. Hits: 0\n",
      "2024-07-25 14:21:16,941 - INFO - Extracted 0 URLs from search results\n",
      "2024-07-25 14:21:16,942 - INFO - Table 'newspaper_data' created or already exists\n",
      "2024-07-25 14:21:16,943 - INFO - Data processing completed. Total rows saved: 0\n",
      "2024-07-25 14:21:16,943 - INFO - Starting fetch_newspaper_data for query: Kungsholms kyrka, dates: 1908-01-01 to 1908-06-30\n",
      "2024-07-25 14:21:17,063 - INFO - Search results received. Hits: 0\n",
      "2024-07-25 14:21:17,063 - INFO - Extracted 0 URLs from search results\n",
      "2024-07-25 14:21:17,064 - INFO - Table 'newspaper_data' created or already exists\n",
      "2024-07-25 14:21:17,065 - INFO - Data processing completed. Total rows saved: 0\n",
      "2024-07-25 14:21:17,066 - INFO - Starting fetch_newspaper_data for query: Regeringsgatan 50, dates: 1908-01-01 to 1908-06-30\n"
     ]
    },
    {
     "name": "stdout",
     "output_type": "stream",
     "text": [
      "Processed query 'Valhalla, Mäster Samuelsgata 51' successfully.\n",
      "Checkpoint saved: Year 1908, Half 0, Index 65\n",
      "Processed query 'Kungsholms kyrka' successfully.\n",
      "Checkpoint saved: Year 1908, Half 0, Index 66\n"
     ]
    },
    {
     "name": "stderr",
     "output_type": "stream",
     "text": [
      "2024-07-25 14:21:17,212 - INFO - Search results received. Hits: 0\n",
      "2024-07-25 14:21:17,213 - INFO - Extracted 0 URLs from search results\n",
      "2024-07-25 14:21:17,214 - INFO - Table 'newspaper_data' created or already exists\n",
      "2024-07-25 14:21:17,214 - INFO - Data processing completed. Total rows saved: 0\n",
      "2024-07-25 14:21:17,215 - INFO - Starting fetch_newspaper_data for query: Adolf Fredriks kyrka, dates: 1908-01-01 to 1908-06-30\n",
      "2024-07-25 14:21:17,357 - INFO - Search results received. Hits: 0\n",
      "2024-07-25 14:21:17,357 - INFO - Extracted 0 URLs from search results\n",
      "2024-07-25 14:21:17,358 - INFO - Table 'newspaper_data' created or already exists\n",
      "2024-07-25 14:21:17,359 - INFO - Data processing completed. Total rows saved: 0\n",
      "2024-07-25 14:21:17,360 - INFO - Starting fetch_newspaper_data for query: Nya teatern (Hammers salong), dates: 1908-01-01 to 1908-06-30\n"
     ]
    },
    {
     "name": "stdout",
     "output_type": "stream",
     "text": [
      "Processed query 'Regeringsgatan 50' successfully.\n",
      "Checkpoint saved: Year 1908, Half 0, Index 67\n",
      "Processed query 'Adolf Fredriks kyrka' successfully.\n",
      "Checkpoint saved: Year 1908, Half 0, Index 68\n"
     ]
    },
    {
     "name": "stderr",
     "output_type": "stream",
     "text": [
      "2024-07-25 14:21:17,477 - INFO - Search results received. Hits: 0\n",
      "2024-07-25 14:21:17,477 - INFO - Extracted 0 URLs from search results\n",
      "2024-07-25 14:21:17,478 - INFO - Table 'newspaper_data' created or already exists\n",
      "2024-07-25 14:21:17,478 - INFO - Data processing completed. Total rows saved: 0\n",
      "2024-07-25 14:21:17,479 - INFO - Starting fetch_newspaper_data for query: Jakobs kyrka, dates: 1908-01-01 to 1908-06-30\n",
      "2024-07-25 14:21:17,613 - INFO - Search results received. Hits: 0\n",
      "2024-07-25 14:21:17,613 - INFO - Extracted 0 URLs from search results\n",
      "2024-07-25 14:21:17,614 - INFO - Table 'newspaper_data' created or already exists\n",
      "2024-07-25 14:21:17,614 - INFO - Data processing completed. Total rows saved: 0\n",
      "2024-07-25 14:21:17,615 - INFO - Starting fetch_newspaper_data for query: Berns salong, dates: 1908-01-01 to 1908-06-30\n"
     ]
    },
    {
     "name": "stdout",
     "output_type": "stream",
     "text": [
      "Processed query 'Nya teatern (Hammers salong)' successfully.\n",
      "Checkpoint saved: Year 1908, Half 0, Index 69\n",
      "Processed query 'Jakobs kyrka' successfully.\n",
      "Checkpoint saved: Year 1908, Half 0, Index 70\n"
     ]
    },
    {
     "name": "stderr",
     "output_type": "stream",
     "text": [
      "2024-07-25 14:21:17,760 - INFO - Search results received. Hits: 0\n",
      "2024-07-25 14:21:17,760 - INFO - Extracted 0 URLs from search results\n",
      "2024-07-25 14:21:17,762 - INFO - Table 'newspaper_data' created or already exists\n",
      "2024-07-25 14:21:17,762 - INFO - Data processing completed. Total rows saved: 0\n",
      "2024-07-25 14:21:17,764 - INFO - Starting fetch_newspaper_data for query: Tyska kyrkan, dates: 1908-01-01 to 1908-06-30\n",
      "2024-07-25 14:21:17,862 - INFO - Search results received. Hits: 0\n",
      "2024-07-25 14:21:17,863 - INFO - Extracted 0 URLs from search results\n",
      "2024-07-25 14:21:17,864 - INFO - Table 'newspaper_data' created or already exists\n",
      "2024-07-25 14:21:17,865 - INFO - Data processing completed. Total rows saved: 0\n",
      "2024-07-25 14:21:17,866 - INFO - Starting fetch_newspaper_data for query: Manegen å K. Djurgården, dates: 1908-01-01 to 1908-06-30\n"
     ]
    },
    {
     "name": "stdout",
     "output_type": "stream",
     "text": [
      "Processed query 'Berns salong' successfully.\n",
      "Checkpoint saved: Year 1908, Half 0, Index 71\n",
      "Processed query 'Tyska kyrkan' successfully.\n",
      "Checkpoint saved: Year 1908, Half 0, Index 72\n"
     ]
    },
    {
     "name": "stderr",
     "output_type": "stream",
     "text": [
      "2024-07-25 14:21:18,042 - INFO - Search results received. Hits: 0\n",
      "2024-07-25 14:21:18,043 - INFO - Extracted 0 URLs from search results\n",
      "2024-07-25 14:21:18,044 - INFO - Table 'newspaper_data' created or already exists\n",
      "2024-07-25 14:21:18,045 - INFO - Data processing completed. Total rows saved: 0\n",
      "2024-07-25 14:21:18,046 - INFO - Starting fetch_newspaper_data for query: Slöjdskolans stora Hörsal, dates: 1908-01-01 to 1908-06-30\n",
      "2024-07-25 14:21:18,172 - INFO - Search results received. Hits: 0\n",
      "2024-07-25 14:21:18,172 - INFO - Extracted 0 URLs from search results\n",
      "2024-07-25 14:21:18,173 - INFO - Table 'newspaper_data' created or already exists\n",
      "2024-07-25 14:21:18,173 - INFO - Data processing completed. Total rows saved: 0\n",
      "2024-07-25 14:21:18,175 - INFO - Starting fetch_newspaper_data for query: Valhalla, Mäster Samuelsgata 51, dates: 1908-01-01 to 1908-06-30\n"
     ]
    },
    {
     "name": "stdout",
     "output_type": "stream",
     "text": [
      "Processed query 'Manegen å K. Djurgården' successfully.\n",
      "Checkpoint saved: Year 1908, Half 0, Index 73\n",
      "Processed query 'Slöjdskolans stora Hörsal' successfully.\n",
      "Checkpoint saved: Year 1908, Half 0, Index 74\n"
     ]
    },
    {
     "name": "stderr",
     "output_type": "stream",
     "text": [
      "2024-07-25 14:21:18,358 - INFO - Search results received. Hits: 0\n",
      "2024-07-25 14:21:18,359 - INFO - Extracted 0 URLs from search results\n",
      "2024-07-25 14:21:18,359 - INFO - Table 'newspaper_data' created or already exists\n",
      "2024-07-25 14:21:18,360 - INFO - Data processing completed. Total rows saved: 0\n",
      "2024-07-25 14:21:18,361 - INFO - Starting fetch_newspaper_data for query: Strömparterren, dates: 1908-01-01 to 1908-06-30\n",
      "2024-07-25 14:21:18,499 - INFO - Search results received. Hits: 0\n",
      "2024-07-25 14:21:18,499 - INFO - Extracted 0 URLs from search results\n",
      "2024-07-25 14:21:18,500 - INFO - Table 'newspaper_data' created or already exists\n",
      "2024-07-25 14:21:18,501 - INFO - Data processing completed. Total rows saved: 0\n",
      "2024-07-25 14:21:18,501 - INFO - Starting fetch_newspaper_data for query: Odeón-theatern, Regeringsgatan nr 28, dates: 1908-01-01 to 1908-06-30\n"
     ]
    },
    {
     "name": "stdout",
     "output_type": "stream",
     "text": [
      "Processed query 'Valhalla, Mäster Samuelsgata 51' successfully.\n",
      "Checkpoint saved: Year 1908, Half 0, Index 75\n",
      "Processed query 'Strömparterren' successfully.\n",
      "Checkpoint saved: Year 1908, Half 0, Index 76\n"
     ]
    },
    {
     "name": "stderr",
     "output_type": "stream",
     "text": [
      "2024-07-25 14:21:18,684 - INFO - Search results received. Hits: 0\n",
      "2024-07-25 14:21:18,684 - INFO - Extracted 0 URLs from search results\n",
      "2024-07-25 14:21:18,685 - INFO - Table 'newspaper_data' created or already exists\n",
      "2024-07-25 14:21:18,686 - INFO - Data processing completed. Total rows saved: 0\n",
      "2024-07-25 14:21:18,687 - INFO - Starting fetch_newspaper_data for query: Katarina elementärskolas lokal, dates: 1908-01-01 to 1908-06-30\n",
      "2024-07-25 14:21:18,853 - INFO - Search results received. Hits: 0\n",
      "2024-07-25 14:21:18,854 - INFO - Extracted 0 URLs from search results\n",
      "2024-07-25 14:21:18,854 - INFO - Table 'newspaper_data' created or already exists\n",
      "2024-07-25 14:21:18,855 - INFO - Data processing completed. Total rows saved: 0\n",
      "2024-07-25 14:21:18,856 - INFO - Starting fetch_newspaper_data for query: Piperska Muren, dates: 1908-01-01 to 1908-06-30\n"
     ]
    },
    {
     "name": "stdout",
     "output_type": "stream",
     "text": [
      "Processed query 'Odeón-theatern, Regeringsgatan nr 28' successfully.\n",
      "Checkpoint saved: Year 1908, Half 0, Index 77\n",
      "Processed query 'Katarina elementärskolas lokal' successfully.\n",
      "Checkpoint saved: Year 1908, Half 0, Index 78\n"
     ]
    },
    {
     "name": "stderr",
     "output_type": "stream",
     "text": [
      "2024-07-25 14:21:19,017 - INFO - Search results received. Hits: 0\n",
      "2024-07-25 14:21:19,017 - INFO - Extracted 0 URLs from search results\n",
      "2024-07-25 14:21:19,018 - INFO - Table 'newspaper_data' created or already exists\n",
      "2024-07-25 14:21:19,019 - INFO - Data processing completed. Total rows saved: 0\n",
      "2024-07-25 14:21:19,020 - INFO - Starting fetch_newspaper_data for query: Frimurarebarnhuset vid Christineberg, dates: 1908-01-01 to 1908-06-30\n"
     ]
    },
    {
     "name": "stdout",
     "output_type": "stream",
     "text": [
      "Processed query 'Piperska Muren' successfully.\n",
      "Checkpoint saved: Year 1908, Half 0, Index 79\n"
     ]
    },
    {
     "name": "stderr",
     "output_type": "stream",
     "text": [
      "2024-07-25 14:21:19,279 - INFO - Search results received. Hits: 0\n",
      "2024-07-25 14:21:19,280 - INFO - Extracted 0 URLs from search results\n",
      "2024-07-25 14:21:19,281 - INFO - Table 'newspaper_data' created or already exists\n",
      "2024-07-25 14:21:19,281 - INFO - Data processing completed. Total rows saved: 0\n",
      "2024-07-25 14:21:19,282 - INFO - Starting fetch_newspaper_data for query: Dalarö kyrka, dates: 1908-01-01 to 1908-06-30\n",
      "2024-07-25 14:21:19,412 - INFO - Search results received. Hits: 0\n",
      "2024-07-25 14:21:19,413 - INFO - Extracted 0 URLs from search results\n",
      "2024-07-25 14:21:19,413 - INFO - Table 'newspaper_data' created or already exists\n",
      "2024-07-25 14:21:19,415 - INFO - Data processing completed. Total rows saved: 0\n",
      "2024-07-25 14:21:19,417 - INFO - Starting fetch_newspaper_data for query: Tomteboda, strax bortom Carlberg, dates: 1908-01-01 to 1908-06-30\n"
     ]
    },
    {
     "name": "stdout",
     "output_type": "stream",
     "text": [
      "Processed query 'Frimurarebarnhuset vid Christineberg' successfully.\n",
      "Checkpoint saved: Year 1908, Half 0, Index 80\n",
      "Processed query 'Dalarö kyrka' successfully.\n",
      "Checkpoint saved: Year 1908, Half 0, Index 81\n"
     ]
    },
    {
     "ename": "KeyboardInterrupt",
     "evalue": "",
     "output_type": "error",
     "traceback": [
      "\u001b[0;31m---------------------------------------------------------------------------\u001b[0m",
      "\u001b[0;31mKeyboardInterrupt\u001b[0m                         Traceback (most recent call last)",
      "Cell \u001b[0;32mIn[9], line 24\u001b[0m\n\u001b[1;32m     21\u001b[0m query \u001b[38;5;241m=\u001b[39m row[\u001b[38;5;124m'\u001b[39m\u001b[38;5;124mLokal\u001b[39m\u001b[38;5;124m'\u001b[39m]\n\u001b[1;32m     23\u001b[0m \u001b[38;5;28;01mtry\u001b[39;00m:\n\u001b[0;32m---> 24\u001b[0m     result \u001b[38;5;241m=\u001b[39m \u001b[43mfetch_newspaper_data\u001b[49m\u001b[43m(\u001b[49m\n\u001b[1;32m     25\u001b[0m \u001b[43m        \u001b[49m\u001b[43mquery\u001b[49m\u001b[38;5;241;43m=\u001b[39;49m\u001b[43mquery\u001b[49m\u001b[43m,\u001b[49m\n\u001b[1;32m     26\u001b[0m \u001b[43m        \u001b[49m\u001b[43mfrom_date\u001b[49m\u001b[38;5;241;43m=\u001b[39;49m\u001b[43mfrom_date\u001b[49m\u001b[38;5;241;43m.\u001b[39;49m\u001b[43mstrftime\u001b[49m\u001b[43m(\u001b[49m\u001b[38;5;124;43m'\u001b[39;49m\u001b[38;5;124;43m%\u001b[39;49m\u001b[38;5;124;43mY-\u001b[39;49m\u001b[38;5;124;43m%\u001b[39;49m\u001b[38;5;124;43mm-\u001b[39;49m\u001b[38;5;132;43;01m%d\u001b[39;49;00m\u001b[38;5;124;43m'\u001b[39;49m\u001b[43m)\u001b[49m\u001b[43m,\u001b[49m\n\u001b[1;32m     27\u001b[0m \u001b[43m        \u001b[49m\u001b[43mto_date\u001b[49m\u001b[38;5;241;43m=\u001b[39;49m\u001b[43mto_date\u001b[49m\u001b[38;5;241;43m.\u001b[39;49m\u001b[43mstrftime\u001b[49m\u001b[43m(\u001b[49m\u001b[38;5;124;43m'\u001b[39;49m\u001b[38;5;124;43m%\u001b[39;49m\u001b[38;5;124;43mY-\u001b[39;49m\u001b[38;5;124;43m%\u001b[39;49m\u001b[38;5;124;43mm-\u001b[39;49m\u001b[38;5;132;43;01m%d\u001b[39;49;00m\u001b[38;5;124;43m'\u001b[39;49m\u001b[43m)\u001b[49m\u001b[43m,\u001b[49m\n\u001b[1;32m     28\u001b[0m \u001b[43m        \u001b[49m\u001b[43mnewspaper\u001b[49m\u001b[38;5;241;43m=\u001b[39;49m\u001b[43mcollection_id\u001b[49m\u001b[43m,\u001b[49m\n\u001b[1;32m     29\u001b[0m \u001b[43m        \u001b[49m\u001b[43mconfig\u001b[49m\u001b[38;5;241;43m=\u001b[39;49m\u001b[43mconfig\u001b[49m\u001b[43m,\u001b[49m\n\u001b[1;32m     30\u001b[0m \u001b[43m        \u001b[49m\u001b[43mdb_path\u001b[49m\u001b[38;5;241;43m=\u001b[39;49m\u001b[43mdb_path\u001b[49m\n\u001b[1;32m     31\u001b[0m \u001b[43m    \u001b[49m\u001b[43m)\u001b[49m\n\u001b[1;32m     33\u001b[0m     \u001b[38;5;28;01mif\u001b[39;00m result\u001b[38;5;241m.\u001b[39mget(\u001b[38;5;124m'\u001b[39m\u001b[38;5;124msuccess\u001b[39m\u001b[38;5;124m'\u001b[39m):\n\u001b[1;32m     34\u001b[0m         \u001b[38;5;28mprint\u001b[39m(\u001b[38;5;124mf\u001b[39m\u001b[38;5;124m\"\u001b[39m\u001b[38;5;124mProcessed query \u001b[39m\u001b[38;5;124m'\u001b[39m\u001b[38;5;132;01m{\u001b[39;00mquery\u001b[38;5;132;01m}\u001b[39;00m\u001b[38;5;124m'\u001b[39m\u001b[38;5;124m successfully.\u001b[39m\u001b[38;5;124m\"\u001b[39m)\n",
      "File \u001b[0;32m~/Library/Mobile Documents/com~apple~CloudDocs/Post-Phd/Quantitative Work/Software/Oldtimey_touringbot/KBDownloader.py:308\u001b[0m, in \u001b[0;36mfetch_newspaper_data\u001b[0;34m(query, from_date, to_date, newspaper, config, db_path)\u001b[0m\n\u001b[1;32m    305\u001b[0m logging\u001b[38;5;241m.\u001b[39minfo(\u001b[38;5;124mf\u001b[39m\u001b[38;5;124m\"\u001b[39m\u001b[38;5;124mStarting fetch_newspaper_data for query: \u001b[39m\u001b[38;5;132;01m{\u001b[39;00mquery\u001b[38;5;132;01m}\u001b[39;00m\u001b[38;5;124m, dates: \u001b[39m\u001b[38;5;132;01m{\u001b[39;00mfrom_date\u001b[38;5;132;01m}\u001b[39;00m\u001b[38;5;124m to \u001b[39m\u001b[38;5;132;01m{\u001b[39;00mto_date\u001b[38;5;132;01m}\u001b[39;00m\u001b[38;5;124m\"\u001b[39m)\n\u001b[1;32m    307\u001b[0m \u001b[38;5;28;01mtry\u001b[39;00m:\n\u001b[0;32m--> 308\u001b[0m     search_results \u001b[38;5;241m=\u001b[39m \u001b[43msearch_swedish_newspapers\u001b[49m\u001b[43m(\u001b[49m\u001b[43mto_date\u001b[49m\u001b[43m,\u001b[49m\u001b[43m \u001b[49m\u001b[43mfrom_date\u001b[49m\u001b[43m,\u001b[49m\u001b[43m \u001b[49m\u001b[43mcollection_id\u001b[49m\u001b[43m,\u001b[49m\u001b[43m \u001b[49m\u001b[43mquery\u001b[49m\u001b[43m)\u001b[49m\n\u001b[1;32m    309\u001b[0m     logging\u001b[38;5;241m.\u001b[39minfo(\u001b[38;5;124mf\u001b[39m\u001b[38;5;124m\"\u001b[39m\u001b[38;5;124mSearch results received. Hits: \u001b[39m\u001b[38;5;132;01m{\u001b[39;00m\u001b[38;5;28mlen\u001b[39m(search_results\u001b[38;5;241m.\u001b[39mget(\u001b[38;5;124m'\u001b[39m\u001b[38;5;124mhits\u001b[39m\u001b[38;5;124m'\u001b[39m,\u001b[38;5;250m \u001b[39m[]))\u001b[38;5;132;01m}\u001b[39;00m\u001b[38;5;124m\"\u001b[39m)\n\u001b[1;32m    311\u001b[0m \u001b[38;5;28;01mexcept\u001b[39;00m requests\u001b[38;5;241m.\u001b[39mHTTPError \u001b[38;5;28;01mas\u001b[39;00m e:\n",
      "File \u001b[0;32m~/Library/Mobile Documents/com~apple~CloudDocs/Post-Phd/Quantitative Work/Software/Oldtimey_touringbot/KBDownloader.py:27\u001b[0m, in \u001b[0;36msearch_swedish_newspapers\u001b[0;34m(to_date, from_date, collection_id, query)\u001b[0m\n\u001b[1;32m     19\u001b[0m params \u001b[38;5;241m=\u001b[39m {\n\u001b[1;32m     20\u001b[0m     \u001b[38;5;124m'\u001b[39m\u001b[38;5;124mto\u001b[39m\u001b[38;5;124m'\u001b[39m: to_date,\n\u001b[1;32m     21\u001b[0m     \u001b[38;5;124m'\u001b[39m\u001b[38;5;124mfrom\u001b[39m\u001b[38;5;124m'\u001b[39m: from_date,\n\u001b[0;32m   (...)\u001b[0m\n\u001b[1;32m     24\u001b[0m     \u001b[38;5;124m'\u001b[39m\u001b[38;5;124msearchGranularity\u001b[39m\u001b[38;5;124m'\u001b[39m: \u001b[38;5;124m'\u001b[39m\u001b[38;5;124mpart\u001b[39m\u001b[38;5;124m'\u001b[39m\n\u001b[1;32m     25\u001b[0m }\n\u001b[1;32m     26\u001b[0m headers \u001b[38;5;241m=\u001b[39m {\u001b[38;5;124m'\u001b[39m\u001b[38;5;124mAccept\u001b[39m\u001b[38;5;124m'\u001b[39m: \u001b[38;5;124m'\u001b[39m\u001b[38;5;124mapplication/json\u001b[39m\u001b[38;5;124m'\u001b[39m}\n\u001b[0;32m---> 27\u001b[0m response \u001b[38;5;241m=\u001b[39m \u001b[43mrequests\u001b[49m\u001b[38;5;241;43m.\u001b[39;49m\u001b[43mget\u001b[49m\u001b[43m(\u001b[49m\u001b[43mbase_url\u001b[49m\u001b[43m,\u001b[49m\u001b[43m \u001b[49m\u001b[43mparams\u001b[49m\u001b[38;5;241;43m=\u001b[39;49m\u001b[43mparams\u001b[49m\u001b[43m,\u001b[49m\u001b[43m \u001b[49m\u001b[43mheaders\u001b[49m\u001b[38;5;241;43m=\u001b[39;49m\u001b[43mheaders\u001b[49m\u001b[43m)\u001b[49m\n\u001b[1;32m     28\u001b[0m response\u001b[38;5;241m.\u001b[39mraise_for_status()\n\u001b[1;32m     29\u001b[0m \u001b[38;5;28;01mtry\u001b[39;00m:\n",
      "File \u001b[0;32m/Library/Frameworks/Python.framework/Versions/3.11/lib/python3.11/site-packages/requests/api.py:73\u001b[0m, in \u001b[0;36mget\u001b[0;34m(url, params, **kwargs)\u001b[0m\n\u001b[1;32m     62\u001b[0m \u001b[38;5;28;01mdef\u001b[39;00m \u001b[38;5;21mget\u001b[39m(url, params\u001b[38;5;241m=\u001b[39m\u001b[38;5;28;01mNone\u001b[39;00m, \u001b[38;5;241m*\u001b[39m\u001b[38;5;241m*\u001b[39mkwargs):\n\u001b[1;32m     63\u001b[0m \u001b[38;5;250m    \u001b[39m\u001b[38;5;124mr\u001b[39m\u001b[38;5;124;03m\"\"\"Sends a GET request.\u001b[39;00m\n\u001b[1;32m     64\u001b[0m \n\u001b[1;32m     65\u001b[0m \u001b[38;5;124;03m    :param url: URL for the new :class:`Request` object.\u001b[39;00m\n\u001b[0;32m   (...)\u001b[0m\n\u001b[1;32m     70\u001b[0m \u001b[38;5;124;03m    :rtype: requests.Response\u001b[39;00m\n\u001b[1;32m     71\u001b[0m \u001b[38;5;124;03m    \"\"\"\u001b[39;00m\n\u001b[0;32m---> 73\u001b[0m     \u001b[38;5;28;01mreturn\u001b[39;00m \u001b[43mrequest\u001b[49m\u001b[43m(\u001b[49m\u001b[38;5;124;43m\"\u001b[39;49m\u001b[38;5;124;43mget\u001b[39;49m\u001b[38;5;124;43m\"\u001b[39;49m\u001b[43m,\u001b[49m\u001b[43m \u001b[49m\u001b[43murl\u001b[49m\u001b[43m,\u001b[49m\u001b[43m \u001b[49m\u001b[43mparams\u001b[49m\u001b[38;5;241;43m=\u001b[39;49m\u001b[43mparams\u001b[49m\u001b[43m,\u001b[49m\u001b[43m \u001b[49m\u001b[38;5;241;43m*\u001b[39;49m\u001b[38;5;241;43m*\u001b[39;49m\u001b[43mkwargs\u001b[49m\u001b[43m)\u001b[49m\n",
      "File \u001b[0;32m/Library/Frameworks/Python.framework/Versions/3.11/lib/python3.11/site-packages/requests/api.py:59\u001b[0m, in \u001b[0;36mrequest\u001b[0;34m(method, url, **kwargs)\u001b[0m\n\u001b[1;32m     55\u001b[0m \u001b[38;5;66;03m# By using the 'with' statement we are sure the session is closed, thus we\u001b[39;00m\n\u001b[1;32m     56\u001b[0m \u001b[38;5;66;03m# avoid leaving sockets open which can trigger a ResourceWarning in some\u001b[39;00m\n\u001b[1;32m     57\u001b[0m \u001b[38;5;66;03m# cases, and look like a memory leak in others.\u001b[39;00m\n\u001b[1;32m     58\u001b[0m \u001b[38;5;28;01mwith\u001b[39;00m sessions\u001b[38;5;241m.\u001b[39mSession() \u001b[38;5;28;01mas\u001b[39;00m session:\n\u001b[0;32m---> 59\u001b[0m     \u001b[38;5;28;01mreturn\u001b[39;00m \u001b[43msession\u001b[49m\u001b[38;5;241;43m.\u001b[39;49m\u001b[43mrequest\u001b[49m\u001b[43m(\u001b[49m\u001b[43mmethod\u001b[49m\u001b[38;5;241;43m=\u001b[39;49m\u001b[43mmethod\u001b[49m\u001b[43m,\u001b[49m\u001b[43m \u001b[49m\u001b[43murl\u001b[49m\u001b[38;5;241;43m=\u001b[39;49m\u001b[43murl\u001b[49m\u001b[43m,\u001b[49m\u001b[43m \u001b[49m\u001b[38;5;241;43m*\u001b[39;49m\u001b[38;5;241;43m*\u001b[39;49m\u001b[43mkwargs\u001b[49m\u001b[43m)\u001b[49m\n",
      "File \u001b[0;32m/Library/Frameworks/Python.framework/Versions/3.11/lib/python3.11/site-packages/requests/sessions.py:587\u001b[0m, in \u001b[0;36mSession.request\u001b[0;34m(self, method, url, params, data, headers, cookies, files, auth, timeout, allow_redirects, proxies, hooks, stream, verify, cert, json)\u001b[0m\n\u001b[1;32m    582\u001b[0m send_kwargs \u001b[38;5;241m=\u001b[39m {\n\u001b[1;32m    583\u001b[0m     \u001b[38;5;124m\"\u001b[39m\u001b[38;5;124mtimeout\u001b[39m\u001b[38;5;124m\"\u001b[39m: timeout,\n\u001b[1;32m    584\u001b[0m     \u001b[38;5;124m\"\u001b[39m\u001b[38;5;124mallow_redirects\u001b[39m\u001b[38;5;124m\"\u001b[39m: allow_redirects,\n\u001b[1;32m    585\u001b[0m }\n\u001b[1;32m    586\u001b[0m send_kwargs\u001b[38;5;241m.\u001b[39mupdate(settings)\n\u001b[0;32m--> 587\u001b[0m resp \u001b[38;5;241m=\u001b[39m \u001b[38;5;28;43mself\u001b[39;49m\u001b[38;5;241;43m.\u001b[39;49m\u001b[43msend\u001b[49m\u001b[43m(\u001b[49m\u001b[43mprep\u001b[49m\u001b[43m,\u001b[49m\u001b[43m \u001b[49m\u001b[38;5;241;43m*\u001b[39;49m\u001b[38;5;241;43m*\u001b[39;49m\u001b[43msend_kwargs\u001b[49m\u001b[43m)\u001b[49m\n\u001b[1;32m    589\u001b[0m \u001b[38;5;28;01mreturn\u001b[39;00m resp\n",
      "File \u001b[0;32m/Library/Frameworks/Python.framework/Versions/3.11/lib/python3.11/site-packages/requests/sessions.py:701\u001b[0m, in \u001b[0;36mSession.send\u001b[0;34m(self, request, **kwargs)\u001b[0m\n\u001b[1;32m    698\u001b[0m start \u001b[38;5;241m=\u001b[39m preferred_clock()\n\u001b[1;32m    700\u001b[0m \u001b[38;5;66;03m# Send the request\u001b[39;00m\n\u001b[0;32m--> 701\u001b[0m r \u001b[38;5;241m=\u001b[39m \u001b[43madapter\u001b[49m\u001b[38;5;241;43m.\u001b[39;49m\u001b[43msend\u001b[49m\u001b[43m(\u001b[49m\u001b[43mrequest\u001b[49m\u001b[43m,\u001b[49m\u001b[43m \u001b[49m\u001b[38;5;241;43m*\u001b[39;49m\u001b[38;5;241;43m*\u001b[39;49m\u001b[43mkwargs\u001b[49m\u001b[43m)\u001b[49m\n\u001b[1;32m    703\u001b[0m \u001b[38;5;66;03m# Total elapsed time of the request (approximately)\u001b[39;00m\n\u001b[1;32m    704\u001b[0m elapsed \u001b[38;5;241m=\u001b[39m preferred_clock() \u001b[38;5;241m-\u001b[39m start\n",
      "File \u001b[0;32m/Library/Frameworks/Python.framework/Versions/3.11/lib/python3.11/site-packages/requests/adapters.py:489\u001b[0m, in \u001b[0;36mHTTPAdapter.send\u001b[0;34m(self, request, stream, timeout, verify, cert, proxies)\u001b[0m\n\u001b[1;32m    487\u001b[0m \u001b[38;5;28;01mtry\u001b[39;00m:\n\u001b[1;32m    488\u001b[0m     \u001b[38;5;28;01mif\u001b[39;00m \u001b[38;5;129;01mnot\u001b[39;00m chunked:\n\u001b[0;32m--> 489\u001b[0m         resp \u001b[38;5;241m=\u001b[39m \u001b[43mconn\u001b[49m\u001b[38;5;241;43m.\u001b[39;49m\u001b[43murlopen\u001b[49m\u001b[43m(\u001b[49m\n\u001b[1;32m    490\u001b[0m \u001b[43m            \u001b[49m\u001b[43mmethod\u001b[49m\u001b[38;5;241;43m=\u001b[39;49m\u001b[43mrequest\u001b[49m\u001b[38;5;241;43m.\u001b[39;49m\u001b[43mmethod\u001b[49m\u001b[43m,\u001b[49m\n\u001b[1;32m    491\u001b[0m \u001b[43m            \u001b[49m\u001b[43murl\u001b[49m\u001b[38;5;241;43m=\u001b[39;49m\u001b[43murl\u001b[49m\u001b[43m,\u001b[49m\n\u001b[1;32m    492\u001b[0m \u001b[43m            \u001b[49m\u001b[43mbody\u001b[49m\u001b[38;5;241;43m=\u001b[39;49m\u001b[43mrequest\u001b[49m\u001b[38;5;241;43m.\u001b[39;49m\u001b[43mbody\u001b[49m\u001b[43m,\u001b[49m\n\u001b[1;32m    493\u001b[0m \u001b[43m            \u001b[49m\u001b[43mheaders\u001b[49m\u001b[38;5;241;43m=\u001b[39;49m\u001b[43mrequest\u001b[49m\u001b[38;5;241;43m.\u001b[39;49m\u001b[43mheaders\u001b[49m\u001b[43m,\u001b[49m\n\u001b[1;32m    494\u001b[0m \u001b[43m            \u001b[49m\u001b[43mredirect\u001b[49m\u001b[38;5;241;43m=\u001b[39;49m\u001b[38;5;28;43;01mFalse\u001b[39;49;00m\u001b[43m,\u001b[49m\n\u001b[1;32m    495\u001b[0m \u001b[43m            \u001b[49m\u001b[43massert_same_host\u001b[49m\u001b[38;5;241;43m=\u001b[39;49m\u001b[38;5;28;43;01mFalse\u001b[39;49;00m\u001b[43m,\u001b[49m\n\u001b[1;32m    496\u001b[0m \u001b[43m            \u001b[49m\u001b[43mpreload_content\u001b[49m\u001b[38;5;241;43m=\u001b[39;49m\u001b[38;5;28;43;01mFalse\u001b[39;49;00m\u001b[43m,\u001b[49m\n\u001b[1;32m    497\u001b[0m \u001b[43m            \u001b[49m\u001b[43mdecode_content\u001b[49m\u001b[38;5;241;43m=\u001b[39;49m\u001b[38;5;28;43;01mFalse\u001b[39;49;00m\u001b[43m,\u001b[49m\n\u001b[1;32m    498\u001b[0m \u001b[43m            \u001b[49m\u001b[43mretries\u001b[49m\u001b[38;5;241;43m=\u001b[39;49m\u001b[38;5;28;43mself\u001b[39;49m\u001b[38;5;241;43m.\u001b[39;49m\u001b[43mmax_retries\u001b[49m\u001b[43m,\u001b[49m\n\u001b[1;32m    499\u001b[0m \u001b[43m            \u001b[49m\u001b[43mtimeout\u001b[49m\u001b[38;5;241;43m=\u001b[39;49m\u001b[43mtimeout\u001b[49m\u001b[43m,\u001b[49m\n\u001b[1;32m    500\u001b[0m \u001b[43m        \u001b[49m\u001b[43m)\u001b[49m\n\u001b[1;32m    502\u001b[0m     \u001b[38;5;66;03m# Send the request.\u001b[39;00m\n\u001b[1;32m    503\u001b[0m     \u001b[38;5;28;01melse\u001b[39;00m:\n\u001b[1;32m    504\u001b[0m         \u001b[38;5;28;01mif\u001b[39;00m \u001b[38;5;28mhasattr\u001b[39m(conn, \u001b[38;5;124m\"\u001b[39m\u001b[38;5;124mproxy_pool\u001b[39m\u001b[38;5;124m\"\u001b[39m):\n",
      "File \u001b[0;32m/Library/Frameworks/Python.framework/Versions/3.11/lib/python3.11/site-packages/urllib3/connectionpool.py:703\u001b[0m, in \u001b[0;36mHTTPConnectionPool.urlopen\u001b[0;34m(self, method, url, body, headers, retries, redirect, assert_same_host, timeout, pool_timeout, release_conn, chunked, body_pos, **response_kw)\u001b[0m\n\u001b[1;32m    700\u001b[0m     \u001b[38;5;28mself\u001b[39m\u001b[38;5;241m.\u001b[39m_prepare_proxy(conn)\n\u001b[1;32m    702\u001b[0m \u001b[38;5;66;03m# Make the request on the httplib connection object.\u001b[39;00m\n\u001b[0;32m--> 703\u001b[0m httplib_response \u001b[38;5;241m=\u001b[39m \u001b[38;5;28;43mself\u001b[39;49m\u001b[38;5;241;43m.\u001b[39;49m\u001b[43m_make_request\u001b[49m\u001b[43m(\u001b[49m\n\u001b[1;32m    704\u001b[0m \u001b[43m    \u001b[49m\u001b[43mconn\u001b[49m\u001b[43m,\u001b[49m\n\u001b[1;32m    705\u001b[0m \u001b[43m    \u001b[49m\u001b[43mmethod\u001b[49m\u001b[43m,\u001b[49m\n\u001b[1;32m    706\u001b[0m \u001b[43m    \u001b[49m\u001b[43murl\u001b[49m\u001b[43m,\u001b[49m\n\u001b[1;32m    707\u001b[0m \u001b[43m    \u001b[49m\u001b[43mtimeout\u001b[49m\u001b[38;5;241;43m=\u001b[39;49m\u001b[43mtimeout_obj\u001b[49m\u001b[43m,\u001b[49m\n\u001b[1;32m    708\u001b[0m \u001b[43m    \u001b[49m\u001b[43mbody\u001b[49m\u001b[38;5;241;43m=\u001b[39;49m\u001b[43mbody\u001b[49m\u001b[43m,\u001b[49m\n\u001b[1;32m    709\u001b[0m \u001b[43m    \u001b[49m\u001b[43mheaders\u001b[49m\u001b[38;5;241;43m=\u001b[39;49m\u001b[43mheaders\u001b[49m\u001b[43m,\u001b[49m\n\u001b[1;32m    710\u001b[0m \u001b[43m    \u001b[49m\u001b[43mchunked\u001b[49m\u001b[38;5;241;43m=\u001b[39;49m\u001b[43mchunked\u001b[49m\u001b[43m,\u001b[49m\n\u001b[1;32m    711\u001b[0m \u001b[43m\u001b[49m\u001b[43m)\u001b[49m\n\u001b[1;32m    713\u001b[0m \u001b[38;5;66;03m# If we're going to release the connection in ``finally:``, then\u001b[39;00m\n\u001b[1;32m    714\u001b[0m \u001b[38;5;66;03m# the response doesn't need to know about the connection. Otherwise\u001b[39;00m\n\u001b[1;32m    715\u001b[0m \u001b[38;5;66;03m# it will also try to release it and we'll have a double-release\u001b[39;00m\n\u001b[1;32m    716\u001b[0m \u001b[38;5;66;03m# mess.\u001b[39;00m\n\u001b[1;32m    717\u001b[0m response_conn \u001b[38;5;241m=\u001b[39m conn \u001b[38;5;28;01mif\u001b[39;00m \u001b[38;5;129;01mnot\u001b[39;00m release_conn \u001b[38;5;28;01melse\u001b[39;00m \u001b[38;5;28;01mNone\u001b[39;00m\n",
      "File \u001b[0;32m/Library/Frameworks/Python.framework/Versions/3.11/lib/python3.11/site-packages/urllib3/connectionpool.py:449\u001b[0m, in \u001b[0;36mHTTPConnectionPool._make_request\u001b[0;34m(self, conn, method, url, timeout, chunked, **httplib_request_kw)\u001b[0m\n\u001b[1;32m    444\u001b[0m             httplib_response \u001b[38;5;241m=\u001b[39m conn\u001b[38;5;241m.\u001b[39mgetresponse()\n\u001b[1;32m    445\u001b[0m         \u001b[38;5;28;01mexcept\u001b[39;00m \u001b[38;5;167;01mBaseException\u001b[39;00m \u001b[38;5;28;01mas\u001b[39;00m e:\n\u001b[1;32m    446\u001b[0m             \u001b[38;5;66;03m# Remove the TypeError from the exception chain in\u001b[39;00m\n\u001b[1;32m    447\u001b[0m             \u001b[38;5;66;03m# Python 3 (including for exceptions like SystemExit).\u001b[39;00m\n\u001b[1;32m    448\u001b[0m             \u001b[38;5;66;03m# Otherwise it looks like a bug in the code.\u001b[39;00m\n\u001b[0;32m--> 449\u001b[0m             \u001b[43msix\u001b[49m\u001b[38;5;241;43m.\u001b[39;49m\u001b[43mraise_from\u001b[49m\u001b[43m(\u001b[49m\u001b[43me\u001b[49m\u001b[43m,\u001b[49m\u001b[43m \u001b[49m\u001b[38;5;28;43;01mNone\u001b[39;49;00m\u001b[43m)\u001b[49m\n\u001b[1;32m    450\u001b[0m \u001b[38;5;28;01mexcept\u001b[39;00m (SocketTimeout, BaseSSLError, SocketError) \u001b[38;5;28;01mas\u001b[39;00m e:\n\u001b[1;32m    451\u001b[0m     \u001b[38;5;28mself\u001b[39m\u001b[38;5;241m.\u001b[39m_raise_timeout(err\u001b[38;5;241m=\u001b[39me, url\u001b[38;5;241m=\u001b[39murl, timeout_value\u001b[38;5;241m=\u001b[39mread_timeout)\n",
      "File \u001b[0;32m<string>:3\u001b[0m, in \u001b[0;36mraise_from\u001b[0;34m(value, from_value)\u001b[0m\n",
      "File \u001b[0;32m/Library/Frameworks/Python.framework/Versions/3.11/lib/python3.11/site-packages/urllib3/connectionpool.py:444\u001b[0m, in \u001b[0;36mHTTPConnectionPool._make_request\u001b[0;34m(self, conn, method, url, timeout, chunked, **httplib_request_kw)\u001b[0m\n\u001b[1;32m    441\u001b[0m \u001b[38;5;28;01mexcept\u001b[39;00m \u001b[38;5;167;01mTypeError\u001b[39;00m:\n\u001b[1;32m    442\u001b[0m     \u001b[38;5;66;03m# Python 3\u001b[39;00m\n\u001b[1;32m    443\u001b[0m     \u001b[38;5;28;01mtry\u001b[39;00m:\n\u001b[0;32m--> 444\u001b[0m         httplib_response \u001b[38;5;241m=\u001b[39m \u001b[43mconn\u001b[49m\u001b[38;5;241;43m.\u001b[39;49m\u001b[43mgetresponse\u001b[49m\u001b[43m(\u001b[49m\u001b[43m)\u001b[49m\n\u001b[1;32m    445\u001b[0m     \u001b[38;5;28;01mexcept\u001b[39;00m \u001b[38;5;167;01mBaseException\u001b[39;00m \u001b[38;5;28;01mas\u001b[39;00m e:\n\u001b[1;32m    446\u001b[0m         \u001b[38;5;66;03m# Remove the TypeError from the exception chain in\u001b[39;00m\n\u001b[1;32m    447\u001b[0m         \u001b[38;5;66;03m# Python 3 (including for exceptions like SystemExit).\u001b[39;00m\n\u001b[1;32m    448\u001b[0m         \u001b[38;5;66;03m# Otherwise it looks like a bug in the code.\u001b[39;00m\n\u001b[1;32m    449\u001b[0m         six\u001b[38;5;241m.\u001b[39mraise_from(e, \u001b[38;5;28;01mNone\u001b[39;00m)\n",
      "File \u001b[0;32m/Library/Frameworks/Python.framework/Versions/3.11/lib/python3.11/http/client.py:1374\u001b[0m, in \u001b[0;36mHTTPConnection.getresponse\u001b[0;34m(self)\u001b[0m\n\u001b[1;32m   1372\u001b[0m \u001b[38;5;28;01mtry\u001b[39;00m:\n\u001b[1;32m   1373\u001b[0m     \u001b[38;5;28;01mtry\u001b[39;00m:\n\u001b[0;32m-> 1374\u001b[0m         \u001b[43mresponse\u001b[49m\u001b[38;5;241;43m.\u001b[39;49m\u001b[43mbegin\u001b[49m\u001b[43m(\u001b[49m\u001b[43m)\u001b[49m\n\u001b[1;32m   1375\u001b[0m     \u001b[38;5;28;01mexcept\u001b[39;00m \u001b[38;5;167;01mConnectionError\u001b[39;00m:\n\u001b[1;32m   1376\u001b[0m         \u001b[38;5;28mself\u001b[39m\u001b[38;5;241m.\u001b[39mclose()\n",
      "File \u001b[0;32m/Library/Frameworks/Python.framework/Versions/3.11/lib/python3.11/http/client.py:318\u001b[0m, in \u001b[0;36mHTTPResponse.begin\u001b[0;34m(self)\u001b[0m\n\u001b[1;32m    316\u001b[0m \u001b[38;5;66;03m# read until we get a non-100 response\u001b[39;00m\n\u001b[1;32m    317\u001b[0m \u001b[38;5;28;01mwhile\u001b[39;00m \u001b[38;5;28;01mTrue\u001b[39;00m:\n\u001b[0;32m--> 318\u001b[0m     version, status, reason \u001b[38;5;241m=\u001b[39m \u001b[38;5;28;43mself\u001b[39;49m\u001b[38;5;241;43m.\u001b[39;49m\u001b[43m_read_status\u001b[49m\u001b[43m(\u001b[49m\u001b[43m)\u001b[49m\n\u001b[1;32m    319\u001b[0m     \u001b[38;5;28;01mif\u001b[39;00m status \u001b[38;5;241m!=\u001b[39m CONTINUE:\n\u001b[1;32m    320\u001b[0m         \u001b[38;5;28;01mbreak\u001b[39;00m\n",
      "File \u001b[0;32m/Library/Frameworks/Python.framework/Versions/3.11/lib/python3.11/http/client.py:279\u001b[0m, in \u001b[0;36mHTTPResponse._read_status\u001b[0;34m(self)\u001b[0m\n\u001b[1;32m    278\u001b[0m \u001b[38;5;28;01mdef\u001b[39;00m \u001b[38;5;21m_read_status\u001b[39m(\u001b[38;5;28mself\u001b[39m):\n\u001b[0;32m--> 279\u001b[0m     line \u001b[38;5;241m=\u001b[39m \u001b[38;5;28mstr\u001b[39m(\u001b[38;5;28mself\u001b[39m\u001b[38;5;241m.\u001b[39mfp\u001b[38;5;241m.\u001b[39mreadline(_MAXLINE \u001b[38;5;241m+\u001b[39m \u001b[38;5;241m1\u001b[39m), \u001b[38;5;124m\"\u001b[39m\u001b[38;5;124miso-8859-1\u001b[39m\u001b[38;5;124m\"\u001b[39m)\n\u001b[1;32m    280\u001b[0m     \u001b[38;5;28;01mif\u001b[39;00m \u001b[38;5;28mlen\u001b[39m(line) \u001b[38;5;241m>\u001b[39m _MAXLINE:\n\u001b[1;32m    281\u001b[0m         \u001b[38;5;28;01mraise\u001b[39;00m LineTooLong(\u001b[38;5;124m\"\u001b[39m\u001b[38;5;124mstatus line\u001b[39m\u001b[38;5;124m\"\u001b[39m)\n",
      "File \u001b[0;32m/Library/Frameworks/Python.framework/Versions/3.11/lib/python3.11/socket.py:706\u001b[0m, in \u001b[0;36mSocketIO.readinto\u001b[0;34m(self, b)\u001b[0m\n\u001b[1;32m    704\u001b[0m \u001b[38;5;28;01mwhile\u001b[39;00m \u001b[38;5;28;01mTrue\u001b[39;00m:\n\u001b[1;32m    705\u001b[0m     \u001b[38;5;28;01mtry\u001b[39;00m:\n\u001b[0;32m--> 706\u001b[0m         \u001b[38;5;28;01mreturn\u001b[39;00m \u001b[38;5;28;43mself\u001b[39;49m\u001b[38;5;241;43m.\u001b[39;49m\u001b[43m_sock\u001b[49m\u001b[38;5;241;43m.\u001b[39;49m\u001b[43mrecv_into\u001b[49m\u001b[43m(\u001b[49m\u001b[43mb\u001b[49m\u001b[43m)\u001b[49m\n\u001b[1;32m    707\u001b[0m     \u001b[38;5;28;01mexcept\u001b[39;00m timeout:\n\u001b[1;32m    708\u001b[0m         \u001b[38;5;28mself\u001b[39m\u001b[38;5;241m.\u001b[39m_timeout_occurred \u001b[38;5;241m=\u001b[39m \u001b[38;5;28;01mTrue\u001b[39;00m\n",
      "File \u001b[0;32m/Library/Frameworks/Python.framework/Versions/3.11/lib/python3.11/ssl.py:1278\u001b[0m, in \u001b[0;36mSSLSocket.recv_into\u001b[0;34m(self, buffer, nbytes, flags)\u001b[0m\n\u001b[1;32m   1274\u001b[0m     \u001b[38;5;28;01mif\u001b[39;00m flags \u001b[38;5;241m!=\u001b[39m \u001b[38;5;241m0\u001b[39m:\n\u001b[1;32m   1275\u001b[0m         \u001b[38;5;28;01mraise\u001b[39;00m \u001b[38;5;167;01mValueError\u001b[39;00m(\n\u001b[1;32m   1276\u001b[0m           \u001b[38;5;124m\"\u001b[39m\u001b[38;5;124mnon-zero flags not allowed in calls to recv_into() on \u001b[39m\u001b[38;5;132;01m%s\u001b[39;00m\u001b[38;5;124m\"\u001b[39m \u001b[38;5;241m%\u001b[39m\n\u001b[1;32m   1277\u001b[0m           \u001b[38;5;28mself\u001b[39m\u001b[38;5;241m.\u001b[39m\u001b[38;5;18m__class__\u001b[39m)\n\u001b[0;32m-> 1278\u001b[0m     \u001b[38;5;28;01mreturn\u001b[39;00m \u001b[38;5;28;43mself\u001b[39;49m\u001b[38;5;241;43m.\u001b[39;49m\u001b[43mread\u001b[49m\u001b[43m(\u001b[49m\u001b[43mnbytes\u001b[49m\u001b[43m,\u001b[49m\u001b[43m \u001b[49m\u001b[43mbuffer\u001b[49m\u001b[43m)\u001b[49m\n\u001b[1;32m   1279\u001b[0m \u001b[38;5;28;01melse\u001b[39;00m:\n\u001b[1;32m   1280\u001b[0m     \u001b[38;5;28;01mreturn\u001b[39;00m \u001b[38;5;28msuper\u001b[39m()\u001b[38;5;241m.\u001b[39mrecv_into(buffer, nbytes, flags)\n",
      "File \u001b[0;32m/Library/Frameworks/Python.framework/Versions/3.11/lib/python3.11/ssl.py:1134\u001b[0m, in \u001b[0;36mSSLSocket.read\u001b[0;34m(self, len, buffer)\u001b[0m\n\u001b[1;32m   1132\u001b[0m \u001b[38;5;28;01mtry\u001b[39;00m:\n\u001b[1;32m   1133\u001b[0m     \u001b[38;5;28;01mif\u001b[39;00m buffer \u001b[38;5;129;01mis\u001b[39;00m \u001b[38;5;129;01mnot\u001b[39;00m \u001b[38;5;28;01mNone\u001b[39;00m:\n\u001b[0;32m-> 1134\u001b[0m         \u001b[38;5;28;01mreturn\u001b[39;00m \u001b[38;5;28;43mself\u001b[39;49m\u001b[38;5;241;43m.\u001b[39;49m\u001b[43m_sslobj\u001b[49m\u001b[38;5;241;43m.\u001b[39;49m\u001b[43mread\u001b[49m\u001b[43m(\u001b[49m\u001b[38;5;28;43mlen\u001b[39;49m\u001b[43m,\u001b[49m\u001b[43m \u001b[49m\u001b[43mbuffer\u001b[49m\u001b[43m)\u001b[49m\n\u001b[1;32m   1135\u001b[0m     \u001b[38;5;28;01melse\u001b[39;00m:\n\u001b[1;32m   1136\u001b[0m         \u001b[38;5;28;01mreturn\u001b[39;00m \u001b[38;5;28mself\u001b[39m\u001b[38;5;241m.\u001b[39m_sslobj\u001b[38;5;241m.\u001b[39mread(\u001b[38;5;28mlen\u001b[39m)\n",
      "\u001b[0;31mKeyboardInterrupt\u001b[0m: "
     ]
    }
   ],
   "source": [
    "# Load checkpoint if it exists\n",
    "checkpoint = load_checkpoint()\n",
    "start_year = checkpoint['year'] if checkpoint else start_year\n",
    "start_half = checkpoint['half'] if checkpoint else 0\n",
    "start_index = checkpoint['index'] if checkpoint else 0\n",
    "\n",
    "# Main loop\n",
    "for year in range(start_year, start_year + years_to_crawl):\n",
    "    for half in range(start_half, 2):\n",
    "        if half == 0:\n",
    "            from_date = datetime(year, 1, 1)\n",
    "            to_date = datetime(year, 6, 30)\n",
    "        else:\n",
    "            from_date = datetime(year, 7, 1)\n",
    "            to_date = datetime(year, 12, 31)\n",
    "\n",
    "        print(f\"Processing data from {from_date} to {to_date}\")\n",
    "\n",
    "        for index in range(start_index, len(df)):\n",
    "            row = df.iloc[index]\n",
    "            query = row['Lokal']\n",
    "\n",
    "            try:\n",
    "                result = fetch_newspaper_data(\n",
    "                    query=query,\n",
    "                    from_date=from_date.strftime('%Y-%m-%d'),\n",
    "                    to_date=to_date.strftime('%Y-%m-%d'),\n",
    "                    newspaper=collection_id,\n",
    "                    config=config,\n",
    "                    db_path=db_path\n",
    "                )\n",
    "\n",
    "                if result.get('success'):\n",
    "                    print(f\"Processed query '{query}' successfully.\")\n",
    "                else:\n",
    "                    print(f\"Failed to process query '{query}': {result.get('message')}\")\n",
    "\n",
    "                # Save checkpoint after each query, successful or not\n",
    "                save_checkpoint(year, half, index + 1)\n",
    "\n",
    "            except Exception as e:\n",
    "                print(f\"Error processing query '{query}': {str(e)}\")\n",
    "                save_checkpoint(year, half, index)\n",
    "                # Consider raising specific exceptions here instead of a broad Exception\n",
    "\n",
    "        print(f\"Waiting. Currently at {from_date} to {to_date}\")\n",
    "        time.sleep(3)  # in seconds\n",
    "\n",
    "        # Reset start_index for the next half, but not start_half or start_year\n",
    "        start_index = 0\n",
    "\n",
    "    # Reset start_half for the next year, but not start_year\n",
    "    start_half = 0\n",
    "\n",
    "print(\"All queries processed for all years\")"
   ]
  },
  {
   "cell_type": "markdown",
   "metadata": {},
   "source": [
    "# Load SQL Database into Dataframe"
   ]
  },
  {
   "cell_type": "code",
   "execution_count": null,
   "metadata": {},
   "outputs": [],
   "source": [
    "import sqlite3\n",
    "import pandas as pd\n",
    "\n",
    "# Connect to the SQLite database\n",
    "conn = sqlite3.connect(db_path)\n",
    "\n",
    "# SQL query to select all columns except 'Raw API Result'\n",
    "query = \"\"\"\n",
    "SELECT Date, [Package ID], Part, Page, [ComposedBlock Content], [Full Prompt]\n",
    "FROM newspaper_data\n",
    "\"\"\"\n",
    "\n",
    "# Read the query results into a pandas DataFrame\n",
    "df = pd.read_sql_query(query, conn)\n",
    "\n",
    "# Close the database connection\n",
    "conn.close()\n",
    "\n",
    "# Display the first few rows of the DataFrame\n",
    "display(df.head())\n",
    "\n",
    "\n",
    "# Optional: If you want to see all rows, you can use:\n",
    "# pd.set_option('display.max_rows', None)\n",
    "# print(df)\n",
    "\n",
    "# Optional: If you want to save this to a CSV file for further analysis:\n",
    "# df.to_csv('newspaper_data_summary.csv', index=False)"
   ]
  },
  {
   "cell_type": "markdown",
   "metadata": {},
   "source": [
    "# Experimental: Delete Duplicate Rows based on ComposedBlock Content"
   ]
  },
  {
   "cell_type": "code",
   "execution_count": null,
   "metadata": {},
   "outputs": [],
   "source": [
    "import sqlite3\n",
    "from sqlalchemy import create_engine\n",
    "\n",
    "# Connect to the SQLite database\n",
    "conn = sqlite3.connect(db_path)\n",
    "engine = create_engine(f'sqlite:///{db_path}', echo=False)\n",
    "\n",
    "# Remove duplicates based on '[ComposedBlock Content]' column\n",
    "df = df.drop_duplicates(subset='[ComposedBlock Content]')\n",
    "\n",
    "# Update the existing table with the deduplicated DataFrame\n",
    "df.to_sql('newspaper_data', engine, if_exists='replace', index=False)\n",
    "\n",
    "# Commit the changes and close the connection\n",
    "conn.commit()\n",
    "conn.close()\n",
    "\n",
    "print(f\"Deduplicated data committed to the 'newspaper_data' table. Rows: {len(df)}\")\n"
   ]
  }
 ],
 "metadata": {
  "kernelspec": {
   "display_name": "Python 3",
   "language": "python",
   "name": "python3"
  },
  "language_info": {
   "codemirror_mode": {
    "name": "ipython",
    "version": 3
   },
   "file_extension": ".py",
   "mimetype": "text/x-python",
   "name": "python",
   "nbconvert_exporter": "python",
   "pygments_lexer": "ipython3",
   "version": "3.11.1"
  }
 },
 "nbformat": 4,
 "nbformat_minor": 2
}
