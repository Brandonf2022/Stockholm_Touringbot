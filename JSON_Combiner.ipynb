{
 "cells": [
  {
   "cell_type": "code",
   "execution_count": 9,
   "metadata": {},
   "outputs": [
    {
     "name": "stdout",
     "output_type": "stream",
     "text": [
      "Combined JSON data has been written to SD_DN_AB_1908_v2.json\n"
     ]
    }
   ],
   "source": [
    "import os\n",
    "import json\n",
    "\n",
    "# Function to recursively find all JSON files in a directory\n",
    "def find_json_files(directory):\n",
    "    json_files = []\n",
    "    for root, dirs, files in os.walk(directory):\n",
    "        for file in files:\n",
    "            if file.endswith('.json'):\n",
    "                json_files.append(os.path.join(root, file))\n",
    "    return json_files\n",
    "\n",
    "# Function to combine JSON objects from multiple files into one\n",
    "def combine_json_files(json_files):\n",
    "    combined_data = []\n",
    "    for file in json_files:\n",
    "        with open(file, 'r') as f:\n",
    "            data = json.load(f)\n",
    "            combined_data.append(data)\n",
    "    return combined_data\n",
    "\n",
    "# Specify the directory containing JSON files\n",
    "directory = 'Datasets/oldtimey touringbot version 2'  # Replace with your directory path\n",
    "\n",
    "# Find all JSON files in the specified directory\n",
    "json_files = find_json_files(directory)\n",
    "\n",
    "# Combine the JSON files\n",
    "combined_data = combine_json_files(json_files)\n",
    "\n",
    "# Specify the output file\n",
    "output_file = 'SD_DN_AB_1908_v2.json'\n",
    "\n",
    "# Write the combined data to the output file\n",
    "with open(output_file, 'w') as f:\n",
    "    json.dump(combined_data, f, indent=4)\n",
    "\n",
    "print(f\"Combined JSON data has been written to {output_file}\")\n"
   ]
  }
 ],
 "metadata": {
  "kernelspec": {
   "display_name": "Python 3",
   "language": "python",
   "name": "python3"
  },
  "language_info": {
   "codemirror_mode": {
    "name": "ipython",
    "version": 3
   },
   "file_extension": ".py",
   "mimetype": "text/x-python",
   "name": "python",
   "nbconvert_exporter": "python",
   "pygments_lexer": "ipython3",
   "version": "3.11.1"
  }
 },
 "nbformat": 4,
 "nbformat_minor": 2
}
