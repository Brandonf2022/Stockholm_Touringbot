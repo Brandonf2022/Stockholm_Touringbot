{
 "cells": [
  {
   "cell_type": "code",
   "execution_count": 1,
   "metadata": {},
   "outputs": [
    {
     "name": "stdout",
     "output_type": "stream",
     "text": [
      "Found 4 JSONL files.\n",
      "Updated file: Datasets/oldtimey touringbot version 2/Svenska Dagbladet 1908-01-01-1908-12-31/KB Extracted Data/extracted_data_q1_SD.jsonl\n",
      "Updated file: Datasets/oldtimey touringbot version 2/Svenska Dagbladet 1908-01-01-1908-12-31/KB Extracted Data/extracted_data_q4_SD.jsonl\n",
      "Updated file: Datasets/oldtimey touringbot version 2/Svenska Dagbladet 1908-01-01-1908-12-31/KB Extracted Data/extracted_data_q3_SD.jsonl\n",
      "Updated file: Datasets/oldtimey touringbot version 2/Svenska Dagbladet 1908-01-01-1908-12-31/KB Extracted Data/extracted_data_q2_SD.jsonl\n"
     ]
    }
   ],
   "source": [
    "import os\n",
    "import json\n",
    "import glob\n",
    "\n",
    "\n",
    "directory = 'Datasets/oldtimey touringbot version 2/Svenska Dagbladet 1908-01-01-1908-12-31/KB Extracted Data'  # Change this to your specific directory\n",
    "replacement_text_path = 'Datasets/oldtimey touringbot version 2/oldtimey_touringbot_prompt_for_deployment.txt'  # Path to the .txt file with the replacement text\n",
    "\n",
    "# Read the replacement text from the file\n",
    "with open(replacement_text_path, 'r') as file:\n",
    "    replacement_text = file.read()\n",
    "\n",
    "# List to hold all jsonl file paths\n",
    "jsonl_files = []\n",
    "\n",
    "# Walk through the directory\n",
    "for root, dirs, files in os.walk(directory):\n",
    "    for file in files:\n",
    "        if file.endswith('.jsonl'):\n",
    "            jsonl_files.append(os.path.join(root, file))\n",
    "\n",
    "print(f\"Found {len(jsonl_files)} JSONL files.\")\n",
    "\n",
    "for jsonl_file in jsonl_files:\n",
    "    # Temporary list to hold modified lines\n",
    "    modified_lines = []\n",
    "\n",
    "    with open(jsonl_file, 'r') as file:\n",
    "        for line in file:\n",
    "            data = json.loads(line)\n",
    "            \n",
    "            # Check if 'body' and 'messages' keys exist\n",
    "            if 'body' in data and 'messages' in data['body']:\n",
    "                messages = data['body']['messages']\n",
    "                \n",
    "                # Modify the system message content\n",
    "                for message in messages:\n",
    "                    if message['role'] == 'system':\n",
    "                        message['content'] = replacement_text  # Use the content from the file, not the file path\n",
    "            \n",
    "            # Store the modified line\n",
    "            modified_lines.append(json.dumps(data))\n",
    "    \n",
    "    # Write the modified content back to the file (or to a new file)\n",
    "    with open(jsonl_file, 'w') as file:\n",
    "        for line in modified_lines:\n",
    "            file.write(line + '\\n')\n",
    "\n",
    "    print(f\"Updated file: {jsonl_file}\")\n"
   ]
  }
 ],
 "metadata": {
  "kernelspec": {
   "display_name": "Python 3",
   "language": "python",
   "name": "python3"
  },
  "language_info": {
   "codemirror_mode": {
    "name": "ipython",
    "version": 3
   },
   "file_extension": ".py",
   "mimetype": "text/x-python",
   "name": "python",
   "nbconvert_exporter": "python",
   "pygments_lexer": "ipython3",
   "version": "3.11.1"
  }
 },
 "nbformat": 4,
 "nbformat_minor": 2
}
