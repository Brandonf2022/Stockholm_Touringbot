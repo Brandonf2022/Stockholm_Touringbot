{
 "cells": [
  {
   "cell_type": "markdown",
   "metadata": {},
   "source": [
    "# KB API Test Notebook\n",
    "\n",
    "This notebook tests the API call to the KB (Kungliga biblioteket) data endpoint. We'll perform the following steps:\n",
    "1. Print out a single search call\n",
    "2. Perform a search with all parameters and access token\n",
    "3. Additional tests and error handling"
   ]
  },
  {
   "cell_type": "code",
   "execution_count": null,
   "metadata": {},
   "outputs": [],
   "source": [
    "import requests\n",
    "from urllib.parse import quote_plus\n",
    "import json\n",
    "import os\n",
    "from dotenv import load_dotenv\n",
    "\n",
    "# Load environment variables\n",
    "load_dotenv()\n",
    "KB_API_KEY = os.getenv('KB_API_KEY')\n",
    "\n",
    "# Base URL for the KB API\n",
    "BASE_URL = 'https://data.kb.se/search'\n",
    "\n",
    "# Test parameters\n",
    "TEST_PARAMS = {\n",
    "    'to': '1908-06-30',\n",
    "    'from': '1908-01-01',\n",
    "    'isPartOf.@id': 'https://libris.kb.se/2ldhmx8d4mcrlq9#it',  # Svenska Dagbladet\n",
    "    'q': 'konsert',\n",
    "    'searchGranularity': 'part'\n",
    "}\n",
    "\n",
    "# Headers\n",
    "HEADERS = {\n",
    "    'Accept': 'application/json',\n",
    "    'Authorization': f'Bearer {KB_API_KEY}'\n",
    "}"
   ]
  },
  {
   "cell_type": "markdown",
   "metadata": {},
   "source": [
    "## 1. Print out a single search call"
   ]
  },
  {
   "cell_type": "code",
   "execution_count": null,
   "metadata": {},
   "outputs": [],
   "source": [
    "# Construct and print the URL for a single search call\n",
    "query_string = '&'.join([f\"{k}={quote_plus(v)}\" for k, v in TEST_PARAMS.items()])\n",
    "full_url = f\"{BASE_URL}?{query_string}\"\n",
    "print(f\"Single search call URL:\\n{full_url}\")"
   ]
  },
  {
   "cell_type": "markdown",
   "metadata": {},
   "source": [
    "## 2. Perform a search with all parameters and access token"
   ]
  },
  {
   "cell_type": "code",
   "execution_count": null,
   "metadata": {},
   "outputs": [],
   "source": [
    "def perform_search(params):\n",
    "    try:\n",
    "        response = requests.get(BASE_URL, params=params, headers=HEADERS)\n",
    "        response.raise_for_status()\n",
    "        return response.json()\n",
    "    except requests.exceptions.RequestException as e:\n",
    "        print(f\"Error occurred: {e}\")\n",
    "        return None\n",
    "\n",
    "# Perform the search\n",
    "result = perform_search(TEST_PARAMS)\n",
    "\n",
    "if result:\n",
    "    print(\"Search successful!\")\n",
    "    print(f\"Number of hits: {result.get('totalHits', 0)}\")\n",
    "    print(\"\\nFirst hit details:\")\n",
    "    print(json.dumps(result['hits'][0], indent=2) if result['hits'] else \"No hits found.\")\n",
    "else:\n",
    "    print(\"Search failed. Please check your API key and parameters.\")"
   ]
  },
  {
   "cell_type": "markdown",
   "metadata": {},
   "source": [
    "## 3. Additional tests and error handling"
   ]
  },
  {
   "cell_type": "code",
   "execution_count": null,
   "metadata": {},
   "outputs": [],
   "source": [
    "def test_api_robustness():\n",
    "    print(\"Testing API robustness...\\n\")\n",
    "    \n",
    "    # Test 1: Invalid date format\n",
    "    invalid_date_params = TEST_PARAMS.copy()\n",
    "    invalid_date_params['to'] = '1908/06/30'\n",
    "    print(\"Test 1: Invalid date format\")\n",
    "    result = perform_search(invalid_date_params)\n",
    "    print(\"Result:\", \"Error as expected\" if not result else \"Unexpected success\")\n",
    "    \n",
    "    # Test 2: Future date\n",
    "    future_date_params = TEST_PARAMS.copy()\n",
    "    future_date_params['to'] = '2050-01-01'\n",
    "    print(\"\\nTest 2: Future date\")\n",
    "    result = perform_search(future_date_params)\n",
    "    print(\"Result:\", \"Success\" if result else \"Failure\")\n",
    "    \n",
    "    # Test 3: Invalid newspaper ID\n",
    "    invalid_id_params = TEST_PARAMS.copy()\n",
    "    invalid_id_params['isPartOf.@id'] = 'https://libris.kb.se/invalid_id'\n",
    "    print(\"\\nTest 3: Invalid newspaper ID\")\n",
    "    result = perform_search(invalid_id_params)\n",
    "    print(\"Result:\", \"Error as expected\" if not result else \"Unexpected success\")\n",
    "    \n",
    "    # Test 4: Empty query\n",
    "    empty_query_params = TEST_PARAMS.copy()\n",
    "    empty_query_params['q'] = ''\n",
    "    print(\"\\nTest 4: Empty query\")\n",
    "    result = perform_search(empty_query_params)\n",
    "    print(\"Result:\", \"Success\" if result else \"Failure\")\n",
    "    \n",
    "    print(\"\\nRobustness testing completed.\")\n",
    "\n",
    "# Run the robustness tests\n",
    "test_api_robustness()"
   ]
  },
  {
   "cell_type": "markdown",
   "metadata": {},
   "source": [
    "## 4. Performance Test"
   ]
  },
  {
   "cell_type": "code",
   "execution_count": null,
   "metadata": {},
   "outputs": [],
   "source": [
    "import time\n",
    "\n",
    "def performance_test(num_requests=5):\n",
    "    print(f\"Running performance test with {num_requests} requests...\")\n",
    "    total_time = 0\n",
    "    \n",
    "    for i in range(num_requests):\n",
    "        start_time = time.time()\n",
    "        result = perform_search(TEST_PARAMS)\n",
    "        end_time = time.time()\n",
    "        \n",
    "        if result:\n",
    "            request_time = end_time - start_time\n",
    "            total_time += request_time\n",
    "            print(f\"Request {i+1}: {request_time:.2f} seconds\")\n",
    "        else:\n",
    "            print(f\"Request {i+1}: Failed\")\n",
    "    \n",
    "    avg_time = total_time / num_requests\n",
    "    print(f\"\\nAverage request time: {avg_time:.2f} seconds\")\n",
    "\n",
    "# Run the performance test\n",
    "performance_test()"
   ]
  },
  {
   "cell_type": "markdown",
   "metadata": {},
   "source": [
    "## Conclusion\n",
    "\n",
    "This notebook has tested the KB API endpoint by:\n",
    "1. Printing out a single search call URL\n",
    "2. Performing a search with all parameters and the access token\n",
    "3. Testing API robustness with various edge cases\n",
    "4. Conducting a simple performance test\n",
    "\n",
    "Review the output of each cell to ensure that the API is working as expected. If any issues are encountered, double-check your API key, parameters, and network connection."
   ]
  }
 ],
 "metadata": {
  "kernelspec": {
   "display_name": "Python 3",
   "language": "python",
   "name": "python3"
  },
  "language_info": {
   "codemirror_mode": {
    "name": "ipython",
    "version": 3
   },
   "file_extension": ".py",
   "mimetype": "text/x-python",
   "name": "python",
   "nbconvert_exporter": "python",
   "pygments_lexer": "ipython3",
   "version": "3.8.0"
  }
 },
 "nbformat": 4,
 "nbformat_minor": 4
}
