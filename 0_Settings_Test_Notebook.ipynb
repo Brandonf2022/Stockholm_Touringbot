{
 "cells": [
  {
   "cell_type": "markdown",
   "metadata": {},
   "source": [
    "# KB API Test Notebook\n",
    "\n",
    "This notebook tests the API call to the KB (Kungliga biblioteket) data endpoint. We'll perform the following steps:\n",
    "1. Print out a single search call\n",
    "2. Perform a search with all parameters and access token\n",
    "3. Additional tests and error handling"
   ]
  },
  {
   "cell_type": "code",
   "execution_count": 1,
   "metadata": {},
   "outputs": [],
   "source": [
    "import requests\n",
    "from urllib.parse import quote_plus\n",
    "import json\n",
    "import os\n",
    "from dotenv import load_dotenv\n",
    "\n",
    "# Load environment variables\n",
    "load_dotenv()\n",
    "KB_API_KEY = os.getenv('KB_API_KEY')\n",
    "\n",
    "# Base URL for the KB API\n",
    "BASE_URL = 'https://data.kb.se/search'\n",
    "\n",
    "# Test parameters\n",
    "TEST_PARAMS = {\n",
    "    'to': '1908-06-30',\n",
    "    'from': '1908-01-01',\n",
    "    'isPartOf.@id': 'https://libris.kb.se/2ldhmx8d4mcrlq9#it',  # Svenska Dagbladet\n",
    "    'q': 'konsert',\n",
    "    'searchGranularity': 'part'\n",
    "}\n",
    "\n",
    "# Headers\n",
    "HEADERS = {\n",
    "    'Accept': 'application/json',\n",
    "    'Authorization': f'Bearer {KB_API_KEY}'\n",
    "}"
   ]
  },
  {
   "cell_type": "markdown",
   "metadata": {},
   "source": [
    "## 1. Print out a single search call"
   ]
  },
  {
   "cell_type": "code",
   "execution_count": 2,
   "metadata": {},
   "outputs": [
    {
     "name": "stdout",
     "output_type": "stream",
     "text": [
      "Single search call URL:\n",
      "https://data.kb.se/search?to=1908-06-30&from=1908-01-01&isPartOf.@id=https%3A%2F%2Flibris.kb.se%2F2ldhmx8d4mcrlq9%23it&q=konsert&searchGranularity=part\n"
     ]
    }
   ],
   "source": [
    "# Construct and print the URL for a single search call\n",
    "query_string = '&'.join([f\"{k}={quote_plus(v)}\" for k, v in TEST_PARAMS.items()])\n",
    "full_url = f\"{BASE_URL}?{query_string}\"\n",
    "print(f\"Single search call URL:\\n{full_url}\")"
   ]
  },
  {
   "cell_type": "markdown",
   "metadata": {},
   "source": [
    "## 2. Perform a search with all parameters and access token"
   ]
  },
  {
   "cell_type": "code",
   "execution_count": 3,
   "metadata": {},
   "outputs": [
    {
     "name": "stdout",
     "output_type": "stream",
     "text": [
      "Search successful!\n",
      "Number of hits: 0\n",
      "\n",
      "First hit details:\n",
      "{\n",
      "  \"@context\": \"https://id.kb.se/context.jsonld\",\n",
      "  \"@id\": \"https://data.kb.se/dark-77574/part/1/page/16\",\n",
      "  \"@type\": \"Document\",\n",
      "  \"title\": \"SVENSKA DAGBLADET 1908-04-26\",\n",
      "  \"identifiedBy\": [\n",
      "    {\n",
      "      \"@type\": \"Identifier\",\n",
      "      \"value\": \"se_kb_mimer:digidaily:bib13434192_19080426_11631_112\",\n",
      "      \"typeNote\": \"local\"\n",
      "    },\n",
      "    {\n",
      "      \"@type\": \"Identifier\",\n",
      "      \"value\": \"urn:nbn:se:kb:dark-package-instance-78504\",\n",
      "      \"typeNote\": \"Version / Paketinstans-ID\"\n",
      "    }\n",
      "  ],\n",
      "  \"instanceOf\": {\n",
      "    \"@id\": null,\n",
      "    \"@type\": \"Text\",\n",
      "    \"title\": null\n",
      "  },\n",
      "  \"isPartOf\": {\n",
      "    \"@id\": \"https://libris.kb.se/2ldhmx8d4mcrlq9#it\",\n",
      "    \"@type\": \"Electronic\",\n",
      "    \"title\": \"Svenska dagbladet\",\n",
      "    \"meta\": {\n",
      "      \"controlNumber\": \"13434192\"\n",
      "    },\n",
      "    \"genreForm\": [\n",
      "      {\n",
      "        \"@type\": \"GenreForm\",\n",
      "        \"prefLabel\": {\n",
      "          \"sv\": \"Dagstidning\",\n",
      "          \"en\": \"Newspaper\"\n",
      "        }\n",
      "      },\n",
      "      {\n",
      "        \"@type\": \"GenreForm\",\n",
      "        \"prefLabel\": {\n",
      "          \"sv\": \"Dagstidningar\"\n",
      "        }\n",
      "      }\n",
      "    ],\n",
      "    \"reproductionOf\": {\n",
      "      \"@id\": \"https://libris.kb.se/h0sfn8kt1xpq55r#it\",\n",
      "      \"@type\": \"Print\",\n",
      "      \"meta\": {\n",
      "        \"controlNumber\": \"1767385\"\n",
      "      }\n",
      "    }\n",
      "  },\n",
      "  \"hasIntellectualEntity\": {\n",
      "    \"@id\": \"https://libris.kb.se/r936z6t31fd18dk#it\"\n",
      "  },\n",
      "  \"hasFilePackage\": {\n",
      "    \"@id\": \"https://data.kb.se/dark-77574\"\n",
      "  },\n",
      "  \"hasRepresentation\": {\n",
      "    \"@id\": \"https://data.kb.se/dark-77574/representation\"\n",
      "  },\n",
      "  \"hasIIIFManifest\": {\n",
      "    \"@id\": \"https://data.kb.se/dark-77574/manifest\"\n",
      "  },\n",
      "  \"genreForm\": null,\n",
      "  \"datePublished\": \"1908-04-26\",\n",
      "  \"inDataset\": null,\n",
      "  \"thumbnail\": \"https://data.kb.se/iiif/3/dark-77574%2Fbib13434192_19080426_11631_112_0016.jp2/full/200,/0/default.jpg\",\n",
      "  \"imageServiceId\": \"https://data.kb.se/iiif/3/dark-77574%2Fbib13434192_19080426_11631_112_0016.jp2\",\n",
      "  \"editionStatement\": \"11631\",\n",
      "  \"isIssueOfEdition\": {\n",
      "    \"@id\": \"https://libris.kb.se/dataset/signe/edition/11631\",\n",
      "    \"@type\": \"SerialEdition\",\n",
      "    \"meta\": {\n",
      "      \"mainEntity\": {\n",
      "        \"@id\": \"https://libris.kb.se/dataset/signe/edition/11631\"\n",
      "      },\n",
      "      \"inDataset\": [\n",
      "        {\n",
      "          \"@id\": \"https://libris.kb.se/dataset/signe/editioner\"\n",
      "        }\n",
      "      ],\n",
      "      \"@type\": \"Record\",\n",
      "      \"@id\": \"https://libris.kb.se/3jgw9chw10815qj5\"\n",
      "    },\n",
      "    \"label\": \"STOCKHOLMSUPPLAGA\",\n",
      "    \"manufacture\": null,\n",
      "    \"firstIssueDate\": \"1900-01-02\",\n",
      "    \"lastIssueDate\": \"1914-08-21\"\n",
      "  },\n",
      "  \"accessAllowed\": true,\n",
      "  \"issue_part_count\": 1,\n",
      "  \"page\": 16,\n",
      "  \"part\": 1,\n",
      "  \"snippets\": [\n",
      "    \"v\\u00e4dret \\u00e4r l\\u00e4mpligt kl 5 .30\\u20147 .30 <em>Konsert</em> Servering i H\\u00f6gloftet Bredablicks kaf\\u00e9 Bragehallen\",\n",
      "    \"Popul\\u00e4r-<em>Konsert</em>\",\n",
      "    \"och D :r Johan Cederlund OBS Denna <em>konsert</em> \\u00e4r den sista af abonnemangskonserterna Biljetter\",\n",
      "    \"<em>Konsert</em>-Afton\",\n",
      "    \"PROGRAM Sergius Liapounow <em>Konsert</em> op 4 Ess moll Franz Berwald <em>Konsert</em> l &gt;dur (Manuskript\",\n",
      "    \"Konsertstycke op 79 F-molL Christian Sinding <em>Konsert</em> Dess-dur Biljetter \\u00e5 2 :50 2 Kr\",\n",
      "    \"Ysaye-<em>Konserten</em>\",\n",
      "    \"dag fr\\u00e5n Ul 1 ,30 (Fri entr\\u00e9 MIDDAGS-<em>KONSERT</em> \\u00bbRum\\u00e4n !ska Solittkapallat .\\u00bb\",\n",
      "    \"Stop <em>Konsert</em> H\\u00f6tel Fenix\"\n",
      "  ],\n",
      "  \"hits_within_doc\": 10\n",
      "}\n"
     ]
    }
   ],
   "source": [
    "def perform_search(params):\n",
    "    try:\n",
    "        response = requests.get(BASE_URL, params=params, headers=HEADERS)\n",
    "        response.raise_for_status()\n",
    "        return response.json()\n",
    "    except requests.exceptions.RequestException as e:\n",
    "        print(f\"Error occurred: {e}\")\n",
    "        return None\n",
    "\n",
    "# Perform the search\n",
    "result = perform_search(TEST_PARAMS)\n",
    "\n",
    "if result:\n",
    "    print(\"Search successful!\")\n",
    "    print(f\"Number of hits: {result.get('totalHits', 0)}\")\n",
    "    print(\"\\nFirst hit details:\")\n",
    "    print(json.dumps(result['hits'][0], indent=2) if result['hits'] else \"No hits found.\")\n",
    "else:\n",
    "    print(\"Search failed. Please check your API key and parameters.\")"
   ]
  },
  {
   "cell_type": "markdown",
   "metadata": {},
   "source": [
    "## 3. Additional tests and error handling"
   ]
  },
  {
   "cell_type": "code",
   "execution_count": 4,
   "metadata": {},
   "outputs": [
    {
     "name": "stdout",
     "output_type": "stream",
     "text": [
      "Testing API robustness...\n",
      "\n",
      "Test 1: Invalid date format\n",
      "Error occurred: 422 Client Error: Unprocessable Entity for url: https://data.kb.se/search?to=1908%2F06%2F30&from=1908-01-01&isPartOf.%40id=https%3A%2F%2Flibris.kb.se%2F2ldhmx8d4mcrlq9%23it&q=konsert&searchGranularity=part\n",
      "Result: Error as expected\n",
      "\n",
      "Test 2: Future date\n",
      "Result: Success\n",
      "\n",
      "Test 3: Invalid newspaper ID\n",
      "Result: Unexpected success\n",
      "\n",
      "Test 4: Empty query\n",
      "Result: Success\n",
      "\n",
      "Robustness testing completed.\n"
     ]
    }
   ],
   "source": [
    "def test_api_robustness():\n",
    "    print(\"Testing API robustness...\\n\")\n",
    "    \n",
    "    # Test 1: Invalid date format\n",
    "    invalid_date_params = TEST_PARAMS.copy()\n",
    "    invalid_date_params['to'] = '1908/06/30'\n",
    "    print(\"Test 1: Invalid date format\")\n",
    "    result = perform_search(invalid_date_params)\n",
    "    print(\"Result:\", \"Error as expected\" if not result else \"Unexpected success\")\n",
    "    \n",
    "    # Test 2: Future date\n",
    "    future_date_params = TEST_PARAMS.copy()\n",
    "    future_date_params['to'] = '2050-01-01'\n",
    "    print(\"\\nTest 2: Future date\")\n",
    "    result = perform_search(future_date_params)\n",
    "    print(\"Result:\", \"Success\" if result else \"Failure\")\n",
    "    \n",
    "    # Test 3: Invalid newspaper ID\n",
    "    invalid_id_params = TEST_PARAMS.copy()\n",
    "    invalid_id_params['isPartOf.@id'] = 'https://libris.kb.se/invalid_id'\n",
    "    print(\"\\nTest 3: Invalid newspaper ID\")\n",
    "    result = perform_search(invalid_id_params)\n",
    "    print(\"Result:\", \"Error as expected\" if not result else \"Unexpected success\")\n",
    "    \n",
    "    # Test 4: Empty query\n",
    "    empty_query_params = TEST_PARAMS.copy()\n",
    "    empty_query_params['q'] = ''\n",
    "    print(\"\\nTest 4: Empty query\")\n",
    "    result = perform_search(empty_query_params)\n",
    "    print(\"Result:\", \"Success\" if result else \"Failure\")\n",
    "    \n",
    "    print(\"\\nRobustness testing completed.\")\n",
    "\n",
    "# Run the robustness tests\n",
    "test_api_robustness()"
   ]
  },
  {
   "cell_type": "markdown",
   "metadata": {},
   "source": [
    "## 4. Performance Test"
   ]
  },
  {
   "cell_type": "code",
   "execution_count": 5,
   "metadata": {},
   "outputs": [
    {
     "name": "stdout",
     "output_type": "stream",
     "text": [
      "Running performance test with 5 requests...\n",
      "Request 1: 0.34 seconds\n",
      "Request 2: 0.38 seconds\n",
      "Request 3: 0.38 seconds\n",
      "Request 4: 0.36 seconds\n",
      "Request 5: 0.35 seconds\n",
      "\n",
      "Average request time: 0.36 seconds\n"
     ]
    }
   ],
   "source": [
    "import time\n",
    "\n",
    "def performance_test(num_requests=5):\n",
    "    print(f\"Running performance test with {num_requests} requests...\")\n",
    "    total_time = 0\n",
    "    \n",
    "    for i in range(num_requests):\n",
    "        start_time = time.time()\n",
    "        result = perform_search(TEST_PARAMS)\n",
    "        end_time = time.time()\n",
    "        \n",
    "        if result:\n",
    "            request_time = end_time - start_time\n",
    "            total_time += request_time\n",
    "            print(f\"Request {i+1}: {request_time:.2f} seconds\")\n",
    "        else:\n",
    "            print(f\"Request {i+1}: Failed\")\n",
    "    \n",
    "    avg_time = total_time / num_requests\n",
    "    print(f\"\\nAverage request time: {avg_time:.2f} seconds\")\n",
    "\n",
    "# Run the performance test\n",
    "performance_test()"
   ]
  },
  {
   "cell_type": "markdown",
   "metadata": {},
   "source": [
    "## Conclusion\n",
    "\n",
    "This notebook has tested the KB API endpoint by:\n",
    "1. Printing out a single search call URL\n",
    "2. Performing a search with all parameters and the access token\n",
    "3. Testing API robustness with various edge cases\n",
    "4. Conducting a simple performance test\n",
    "\n",
    "Review the output of each cell to ensure that the API is working as expected. If any issues are encountered, double-check your API key, parameters, and network connection."
   ]
  }
 ],
 "metadata": {
  "kernelspec": {
   "display_name": "Python 3",
   "language": "python",
   "name": "python3"
  },
  "language_info": {
   "codemirror_mode": {
    "name": "ipython",
    "version": 3
   },
   "file_extension": ".py",
   "mimetype": "text/x-python",
   "name": "python",
   "nbconvert_exporter": "python",
   "pygments_lexer": "ipython3",
   "version": "3.11.1"
  }
 },
 "nbformat": 4,
 "nbformat_minor": 4
}
